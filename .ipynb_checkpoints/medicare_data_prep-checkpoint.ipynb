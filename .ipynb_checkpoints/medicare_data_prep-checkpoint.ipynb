{
 "cells": [
  {
   "cell_type": "code",
   "execution_count": 1,
   "metadata": {},
   "outputs": [],
   "source": [
    "import os\n",
    "import pandas as pd\n",
    "from tqdm import tqdm, tqdm_notebook"
   ]
  },
  {
   "cell_type": "code",
   "execution_count": 2,
   "metadata": {},
   "outputs": [],
   "source": [
    "df_chunk = pd.read_csv(r\"C:\\Users\\raaga\\Desktop\\cmpe272\\Medicare_Provider_Util_Payment_PUF_CY2017.txt\",sep= '\\t', lineterminator = '\\r', chunksize =100000, error_bad_lines=False)"
   ]
  },
  {
   "cell_type": "code",
   "execution_count": null,
   "metadata": {},
   "outputs": [
    {
     "name": "stderr",
     "output_type": "stream",
     "text": [
      "C:\\Users\\raaga\\anaconda3\\lib\\site-packages\\IPython\\core\\interactiveshell.py:3063: DtypeWarning: Columns (10) have mixed types.Specify dtype option on import or set low_memory=False.\n",
      "  interactivity=interactivity, compiler=compiler, result=result)\n"
     ]
    }
   ],
   "source": [
    "chunk_list = []  # append each chunk df here \n",
    "\n",
    "# Each chunk is in df format\n",
    "for chunk in df_chunk:  \n",
    "\n",
    "    # Once the data filtering is done, append the chunk to list\n",
    "    chunk_list.append(chunk)\n",
    "    \n",
    "# concat the list into dataframe \n",
    "df_concat = pd.concat(chunk_list)"
   ]
  },
  {
   "cell_type": "code",
   "execution_count": 6,
   "metadata": {},
   "outputs": [
    {
     "name": "stdout",
     "output_type": "stream",
     "text": [
      "                  npi                       nppes_provider_last_org_name  \\\n",
      "0                   1  CPT copyright 2016 American Medical Associatio...   \n",
      "1          1003000126                                          ENKESHAFI   \n",
      "2          1003000126                                          ENKESHAFI   \n",
      "3          1003000126                                          ENKESHAFI   \n",
      "4          1003000126                                          ENKESHAFI   \n",
      "...               ...                                                ...   \n",
      "9847440  \\n1992999874                                              JOFFE   \n",
      "9847441  \\n1992999874                                              JOFFE   \n",
      "9847442  \\n1992999874                                              JOFFE   \n",
      "9847443  \\n1992999874                                              JOFFE   \n",
      "9847444            \\n                                                NaN   \n",
      "\n",
      "        nppes_provider_first_name nppes_provider_mi nppes_credentials  \\\n",
      "0                             NaN               NaN               NaN   \n",
      "1                         ARDALAN               NaN              M.D.   \n",
      "2                         ARDALAN               NaN              M.D.   \n",
      "3                         ARDALAN               NaN              M.D.   \n",
      "4                         ARDALAN               NaN              M.D.   \n",
      "...                           ...               ...               ...   \n",
      "9847440                 GABRIELLA               NaN               NaN   \n",
      "9847441                 GABRIELLA               NaN               NaN   \n",
      "9847442                 GABRIELLA               NaN               NaN   \n",
      "9847443                 GABRIELLA               NaN               NaN   \n",
      "9847444                       NaN               NaN               NaN   \n",
      "\n",
      "        nppes_provider_gender nppes_entity_code nppes_provider_street1  \\\n",
      "0                         NaN               NaN                    NaN   \n",
      "1                           M                 I           900 SETON DR   \n",
      "2                           M                 I           900 SETON DR   \n",
      "3                           M                 I           900 SETON DR   \n",
      "4                           M                 I           900 SETON DR   \n",
      "...                       ...               ...                    ...   \n",
      "9847440                     F                 I          8260 ATLEE RD   \n",
      "9847441                     F                 I          8260 ATLEE RD   \n",
      "9847442                     F                 I          8260 ATLEE RD   \n",
      "9847443                     F                 I          8260 ATLEE RD   \n",
      "9847444                   NaN               NaN                    NaN   \n",
      "\n",
      "        nppes_provider_street2 nppes_provider_city  ... hcpcs_code  \\\n",
      "0                          NaN                 NaN  ...        NaN   \n",
      "1                          NaN          CUMBERLAND  ...      99217   \n",
      "2                          NaN          CUMBERLAND  ...      99218   \n",
      "3                          NaN          CUMBERLAND  ...      99219   \n",
      "4                          NaN          CUMBERLAND  ...      99220   \n",
      "...                        ...                 ...  ...        ...   \n",
      "9847440       MOB 2, SUITE 319      MECHANICSVILLE  ...      99223   \n",
      "9847441       MOB 2, SUITE 319      MECHANICSVILLE  ...      99232   \n",
      "9847442       MOB 2, SUITE 319      MECHANICSVILLE  ...      99233   \n",
      "9847443       MOB 2, SUITE 319      MECHANICSVILLE  ...      99239   \n",
      "9847444                    NaN                 NaN  ...        NaN   \n",
      "\n",
      "                                         hcpcs_description  \\\n",
      "0                                                      NaN   \n",
      "1                      Hospital observation care discharge   \n",
      "2           Hospital observation care typically 30 minutes   \n",
      "3           Hospital observation care typically 50 minutes   \n",
      "4        Hospital observation care typically 70 minutes...   \n",
      "...                                                    ...   \n",
      "9847440  Initial hospital inpatient care, typically 70 ...   \n",
      "9847441  Subsequent hospital inpatient care, typically ...   \n",
      "9847442  Subsequent hospital inpatient care, typically ...   \n",
      "9847443  Hospital discharge day management, more than 3...   \n",
      "9847444                                                NaN   \n",
      "\n",
      "        hcpcs_drug_indicator line_srvc_cnt bene_unique_cnt bene_day_srvc_cnt  \\\n",
      "0                        NaN           NaN             NaN               NaN   \n",
      "1                          N         100.0            96.0             100.0   \n",
      "2                          N          26.0            25.0              26.0   \n",
      "3                          N          52.0            51.0              52.0   \n",
      "4                          N          59.0            59.0              59.0   \n",
      "...                      ...           ...             ...               ...   \n",
      "9847440                    N          41.0            41.0              41.0   \n",
      "9847441                    N         101.0            57.0             101.0   \n",
      "9847442                    N         102.0            55.0             102.0   \n",
      "9847443                    N          49.0            49.0              49.0   \n",
      "9847444                  NaN           NaN             NaN               NaN   \n",
      "\n",
      "        average_Medicare_allowed_amt average_submitted_chrg_amt  \\\n",
      "0                                NaN                        NaN   \n",
      "1                          73.398800                 325.780000   \n",
      "2                         100.080000                 449.000000   \n",
      "3                         136.380000                 614.000000   \n",
      "4                         190.363729                 755.932203   \n",
      "...                              ...                        ...   \n",
      "9847440                   203.400000                 496.000000   \n",
      "9847441                    72.480000                 176.000000   \n",
      "9847442                   104.760000                 254.000000   \n",
      "9847443                   107.980000                 262.000000   \n",
      "9847444                          NaN                        NaN   \n",
      "\n",
      "        average_Medicare_payment_amt  average_Medicare_standard_amt  \n",
      "0                                NaN                            NaN  \n",
      "1                          56.827200                      57.492400  \n",
      "2                          78.460000                      79.306154  \n",
      "3                         102.807692                     103.895385  \n",
      "4                         141.293559                     142.865763  \n",
      "...                              ...                            ...  \n",
      "9847440                   225.564634                     155.800732  \n",
      "9847441                    83.200000                      57.390000  \n",
      "9847442                   119.450784                      82.450490  \n",
      "9847443                   123.950000                      85.540000  \n",
      "9847444                          NaN                            NaN  \n",
      "\n",
      "[9847445 rows x 26 columns]\n"
     ]
    }
   ],
   "source": [
    "print(df_concat)"
   ]
  }
 ],
 "metadata": {
  "kernelspec": {
   "display_name": "Python 3",
   "language": "python",
   "name": "python3"
  },
  "language_info": {
   "codemirror_mode": {
    "name": "ipython",
    "version": 3
   },
   "file_extension": ".py",
   "mimetype": "text/x-python",
   "name": "python",
   "nbconvert_exporter": "python",
   "pygments_lexer": "ipython3",
   "version": "3.7.6"
  }
 },
 "nbformat": 4,
 "nbformat_minor": 4
}
