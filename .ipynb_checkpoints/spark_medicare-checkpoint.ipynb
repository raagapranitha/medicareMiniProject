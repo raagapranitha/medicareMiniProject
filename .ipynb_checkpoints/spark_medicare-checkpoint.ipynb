{
 "cells": [
  {
   "cell_type": "code",
   "execution_count": 2,
   "metadata": {},
   "outputs": [
    {
     "name": "stdout",
     "output_type": "stream",
     "text": [
      "<pyspark.sql.session.SparkSession object at 0x0000026E93A79AC8>\n"
     ]
    }
   ],
   "source": [
    "import findspark\n",
    "findspark.init()\n",
    "from pyspark import SparkConf, SparkContext\n",
    "from pyspark.sql import SparkSession\n",
    "from pyspark.sql import *\n",
    "from pyspark.sql.functions import *\n",
    "conf = SparkConf().setMaster(\"local\").setAppName(\"PySpark_feature_eng\").set(\"spark.executor.memory\",\"5g\").set(\"spark.driver.memory\",\"2g\")\n",
    "spark = SparkSession.builder.getOrCreate()\n",
    "print(spark)"
   ]
  },
  {
   "cell_type": "code",
   "execution_count": 3,
   "metadata": {},
   "outputs": [],
   "source": [
    "from pyspark.sql import SQLContext\n",
    "sqlContext = SQLContext(spark)"
   ]
  },
  {
   "cell_type": "code",
   "execution_count": 4,
   "metadata": {},
   "outputs": [
    {
     "name": "stdout",
     "output_type": "stream",
     "text": [
      "3.0.0-preview2\n"
     ]
    }
   ],
   "source": [
    "print(spark.version)"
   ]
  },
  {
   "cell_type": "code",
   "execution_count": 7,
   "metadata": {},
   "outputs": [],
   "source": [
    "spark_try = spark.sparkContext.textFile(r\"C:\\Users\\raaga\\Desktop\\cmpe272\\Medicare_Provider_Util_Payment_PUF_CY2017.txt\")"
   ]
  },
  {
   "cell_type": "code",
   "execution_count": 9,
   "metadata": {},
   "outputs": [
    {
     "ename": "Py4JJavaError",
     "evalue": "An error occurred while calling z:org.apache.spark.api.python.PythonRDD.runJob.\n: org.apache.spark.SparkException: Job aborted due to stage failure: Task 0 in stage 0.0 failed 1 times, most recent failure: Lost task 0.0 in stage 0.0 (TID 0, Raaga.mshome.net, executor driver): java.net.SocketException: Connection reset by peer: socket write error\r\n\tat java.net.SocketOutputStream.socketWrite0(Native Method)\r\n\tat java.net.SocketOutputStream.socketWrite(Unknown Source)\r\n\tat java.net.SocketOutputStream.write(Unknown Source)\r\n\tat java.io.BufferedOutputStream.flushBuffer(Unknown Source)\r\n\tat java.io.BufferedOutputStream.write(Unknown Source)\r\n\tat java.io.DataOutputStream.writeInt(Unknown Source)\r\n\tat org.apache.spark.api.python.PythonRDD$.writeUTF(PythonRDD.scala:449)\r\n\tat org.apache.spark.api.python.PythonRDD$.write$1(PythonRDD.scala:270)\r\n\tat org.apache.spark.api.python.PythonRDD$.$anonfun$writeIteratorToStream$1(PythonRDD.scala:280)\r\n\tat org.apache.spark.api.python.PythonRDD$.$anonfun$writeIteratorToStream$1$adapted(PythonRDD.scala:280)\r\n\tat scala.collection.Iterator.foreach(Iterator.scala:941)\r\n\tat scala.collection.Iterator.foreach$(Iterator.scala:941)\r\n\tat scala.collection.AbstractIterator.foreach(Iterator.scala:1429)\r\n\tat org.apache.spark.api.python.PythonRDD$.writeIteratorToStream(PythonRDD.scala:280)\r\n\tat org.apache.spark.api.python.PythonRunner$$anon$2.writeIteratorToStream(PythonRunner.scala:588)\r\n\tat org.apache.spark.api.python.BasePythonRunner$WriterThread.$anonfun$run$1(PythonRunner.scala:373)\r\n\tat org.apache.spark.util.Utils$.logUncaughtExceptions(Utils.scala:1932)\r\n\tat org.apache.spark.api.python.BasePythonRunner$WriterThread.run(PythonRunner.scala:213)\r\n\nDriver stacktrace:\r\n\tat org.apache.spark.scheduler.DAGScheduler.failJobAndIndependentStages(DAGScheduler.scala:1989)\r\n\tat org.apache.spark.scheduler.DAGScheduler.$anonfun$abortStage$2(DAGScheduler.scala:1977)\r\n\tat org.apache.spark.scheduler.DAGScheduler.$anonfun$abortStage$2$adapted(DAGScheduler.scala:1976)\r\n\tat scala.collection.mutable.ResizableArray.foreach(ResizableArray.scala:62)\r\n\tat scala.collection.mutable.ResizableArray.foreach$(ResizableArray.scala:55)\r\n\tat scala.collection.mutable.ArrayBuffer.foreach(ArrayBuffer.scala:49)\r\n\tat org.apache.spark.scheduler.DAGScheduler.abortStage(DAGScheduler.scala:1976)\r\n\tat org.apache.spark.scheduler.DAGScheduler.$anonfun$handleTaskSetFailed$1(DAGScheduler.scala:956)\r\n\tat org.apache.spark.scheduler.DAGScheduler.$anonfun$handleTaskSetFailed$1$adapted(DAGScheduler.scala:956)\r\n\tat scala.Option.foreach(Option.scala:407)\r\n\tat org.apache.spark.scheduler.DAGScheduler.handleTaskSetFailed(DAGScheduler.scala:956)\r\n\tat org.apache.spark.scheduler.DAGSchedulerEventProcessLoop.doOnReceive(DAGScheduler.scala:2206)\r\n\tat org.apache.spark.scheduler.DAGSchedulerEventProcessLoop.onReceive(DAGScheduler.scala:2155)\r\n\tat org.apache.spark.scheduler.DAGSchedulerEventProcessLoop.onReceive(DAGScheduler.scala:2144)\r\n\tat org.apache.spark.util.EventLoop$$anon$1.run(EventLoop.scala:49)\r\n\tat org.apache.spark.scheduler.DAGScheduler.runJob(DAGScheduler.scala:758)\r\n\tat org.apache.spark.SparkContext.runJob(SparkContext.scala:2116)\r\n\tat org.apache.spark.SparkContext.runJob(SparkContext.scala:2137)\r\n\tat org.apache.spark.SparkContext.runJob(SparkContext.scala:2156)\r\n\tat org.apache.spark.api.python.PythonRDD$.runJob(PythonRDD.scala:154)\r\n\tat org.apache.spark.api.python.PythonRDD.runJob(PythonRDD.scala)\r\n\tat sun.reflect.NativeMethodAccessorImpl.invoke0(Native Method)\r\n\tat sun.reflect.NativeMethodAccessorImpl.invoke(Unknown Source)\r\n\tat sun.reflect.DelegatingMethodAccessorImpl.invoke(Unknown Source)\r\n\tat java.lang.reflect.Method.invoke(Unknown Source)\r\n\tat py4j.reflection.MethodInvoker.invoke(MethodInvoker.java:244)\r\n\tat py4j.reflection.ReflectionEngine.invoke(ReflectionEngine.java:357)\r\n\tat py4j.Gateway.invoke(Gateway.java:282)\r\n\tat py4j.commands.AbstractCommand.invokeMethod(AbstractCommand.java:132)\r\n\tat py4j.commands.CallCommand.execute(CallCommand.java:79)\r\n\tat py4j.GatewayConnection.run(GatewayConnection.java:238)\r\n\tat java.lang.Thread.run(Unknown Source)\r\nCaused by: java.net.SocketException: Connection reset by peer: socket write error\r\n\tat java.net.SocketOutputStream.socketWrite0(Native Method)\r\n\tat java.net.SocketOutputStream.socketWrite(Unknown Source)\r\n\tat java.net.SocketOutputStream.write(Unknown Source)\r\n\tat java.io.BufferedOutputStream.flushBuffer(Unknown Source)\r\n\tat java.io.BufferedOutputStream.write(Unknown Source)\r\n\tat java.io.DataOutputStream.writeInt(Unknown Source)\r\n\tat org.apache.spark.api.python.PythonRDD$.writeUTF(PythonRDD.scala:449)\r\n\tat org.apache.spark.api.python.PythonRDD$.write$1(PythonRDD.scala:270)\r\n\tat org.apache.spark.api.python.PythonRDD$.$anonfun$writeIteratorToStream$1(PythonRDD.scala:280)\r\n\tat org.apache.spark.api.python.PythonRDD$.$anonfun$writeIteratorToStream$1$adapted(PythonRDD.scala:280)\r\n\tat scala.collection.Iterator.foreach(Iterator.scala:941)\r\n\tat scala.collection.Iterator.foreach$(Iterator.scala:941)\r\n\tat scala.collection.AbstractIterator.foreach(Iterator.scala:1429)\r\n\tat org.apache.spark.api.python.PythonRDD$.writeIteratorToStream(PythonRDD.scala:280)\r\n\tat org.apache.spark.api.python.PythonRunner$$anon$2.writeIteratorToStream(PythonRunner.scala:588)\r\n\tat org.apache.spark.api.python.BasePythonRunner$WriterThread.$anonfun$run$1(PythonRunner.scala:373)\r\n\tat org.apache.spark.util.Utils$.logUncaughtExceptions(Utils.scala:1932)\r\n\tat org.apache.spark.api.python.BasePythonRunner$WriterThread.run(PythonRunner.scala:213)\r\n",
     "output_type": "error",
     "traceback": [
      "\u001b[1;31m---------------------------------------------------------------------------\u001b[0m",
      "\u001b[1;31mPy4JJavaError\u001b[0m                             Traceback (most recent call last)",
      "\u001b[1;32m<ipython-input-9-b4a050cf4477>\u001b[0m in \u001b[0;36m<module>\u001b[1;34m\u001b[0m\n\u001b[1;32m----> 1\u001b[1;33m \u001b[0mspark_try\u001b[0m\u001b[1;33m.\u001b[0m\u001b[0mfirst\u001b[0m\u001b[1;33m(\u001b[0m\u001b[1;33m)\u001b[0m\u001b[1;33m\u001b[0m\u001b[1;33m\u001b[0m\u001b[0m\n\u001b[0m",
      "\u001b[1;32mC:\\spark-3.0.0-preview2-bin-hadoop2\\spark-3.0.0-preview2-bin-hadoop2.7\\python\\pyspark\\rdd.py\u001b[0m in \u001b[0;36mfirst\u001b[1;34m(self)\u001b[0m\n\u001b[0;32m   1449\u001b[0m         \u001b[0mValueError\u001b[0m\u001b[1;33m:\u001b[0m \u001b[0mRDD\u001b[0m \u001b[1;32mis\u001b[0m \u001b[0mempty\u001b[0m\u001b[1;33m\u001b[0m\u001b[1;33m\u001b[0m\u001b[0m\n\u001b[0;32m   1450\u001b[0m         \"\"\"\n\u001b[1;32m-> 1451\u001b[1;33m         \u001b[0mrs\u001b[0m \u001b[1;33m=\u001b[0m \u001b[0mself\u001b[0m\u001b[1;33m.\u001b[0m\u001b[0mtake\u001b[0m\u001b[1;33m(\u001b[0m\u001b[1;36m1\u001b[0m\u001b[1;33m)\u001b[0m\u001b[1;33m\u001b[0m\u001b[1;33m\u001b[0m\u001b[0m\n\u001b[0m\u001b[0;32m   1452\u001b[0m         \u001b[1;32mif\u001b[0m \u001b[0mrs\u001b[0m\u001b[1;33m:\u001b[0m\u001b[1;33m\u001b[0m\u001b[1;33m\u001b[0m\u001b[0m\n\u001b[0;32m   1453\u001b[0m             \u001b[1;32mreturn\u001b[0m \u001b[0mrs\u001b[0m\u001b[1;33m[\u001b[0m\u001b[1;36m0\u001b[0m\u001b[1;33m]\u001b[0m\u001b[1;33m\u001b[0m\u001b[1;33m\u001b[0m\u001b[0m\n",
      "\u001b[1;32mC:\\spark-3.0.0-preview2-bin-hadoop2\\spark-3.0.0-preview2-bin-hadoop2.7\\python\\pyspark\\rdd.py\u001b[0m in \u001b[0;36mtake\u001b[1;34m(self, num)\u001b[0m\n\u001b[0;32m   1431\u001b[0m \u001b[1;33m\u001b[0m\u001b[0m\n\u001b[0;32m   1432\u001b[0m             \u001b[0mp\u001b[0m \u001b[1;33m=\u001b[0m \u001b[0mrange\u001b[0m\u001b[1;33m(\u001b[0m\u001b[0mpartsScanned\u001b[0m\u001b[1;33m,\u001b[0m \u001b[0mmin\u001b[0m\u001b[1;33m(\u001b[0m\u001b[0mpartsScanned\u001b[0m \u001b[1;33m+\u001b[0m \u001b[0mnumPartsToTry\u001b[0m\u001b[1;33m,\u001b[0m \u001b[0mtotalParts\u001b[0m\u001b[1;33m)\u001b[0m\u001b[1;33m)\u001b[0m\u001b[1;33m\u001b[0m\u001b[1;33m\u001b[0m\u001b[0m\n\u001b[1;32m-> 1433\u001b[1;33m             \u001b[0mres\u001b[0m \u001b[1;33m=\u001b[0m \u001b[0mself\u001b[0m\u001b[1;33m.\u001b[0m\u001b[0mcontext\u001b[0m\u001b[1;33m.\u001b[0m\u001b[0mrunJob\u001b[0m\u001b[1;33m(\u001b[0m\u001b[0mself\u001b[0m\u001b[1;33m,\u001b[0m \u001b[0mtakeUpToNumLeft\u001b[0m\u001b[1;33m,\u001b[0m \u001b[0mp\u001b[0m\u001b[1;33m)\u001b[0m\u001b[1;33m\u001b[0m\u001b[1;33m\u001b[0m\u001b[0m\n\u001b[0m\u001b[0;32m   1434\u001b[0m \u001b[1;33m\u001b[0m\u001b[0m\n\u001b[0;32m   1435\u001b[0m             \u001b[0mitems\u001b[0m \u001b[1;33m+=\u001b[0m \u001b[0mres\u001b[0m\u001b[1;33m\u001b[0m\u001b[1;33m\u001b[0m\u001b[0m\n",
      "\u001b[1;32mC:\\spark-3.0.0-preview2-bin-hadoop2\\spark-3.0.0-preview2-bin-hadoop2.7\\python\\pyspark\\context.py\u001b[0m in \u001b[0;36mrunJob\u001b[1;34m(self, rdd, partitionFunc, partitions, allowLocal)\u001b[0m\n\u001b[0;32m   1121\u001b[0m         \u001b[1;31m# SparkContext#runJob.\u001b[0m\u001b[1;33m\u001b[0m\u001b[1;33m\u001b[0m\u001b[1;33m\u001b[0m\u001b[0m\n\u001b[0;32m   1122\u001b[0m         \u001b[0mmappedRDD\u001b[0m \u001b[1;33m=\u001b[0m \u001b[0mrdd\u001b[0m\u001b[1;33m.\u001b[0m\u001b[0mmapPartitions\u001b[0m\u001b[1;33m(\u001b[0m\u001b[0mpartitionFunc\u001b[0m\u001b[1;33m)\u001b[0m\u001b[1;33m\u001b[0m\u001b[1;33m\u001b[0m\u001b[0m\n\u001b[1;32m-> 1123\u001b[1;33m         \u001b[0msock_info\u001b[0m \u001b[1;33m=\u001b[0m \u001b[0mself\u001b[0m\u001b[1;33m.\u001b[0m\u001b[0m_jvm\u001b[0m\u001b[1;33m.\u001b[0m\u001b[0mPythonRDD\u001b[0m\u001b[1;33m.\u001b[0m\u001b[0mrunJob\u001b[0m\u001b[1;33m(\u001b[0m\u001b[0mself\u001b[0m\u001b[1;33m.\u001b[0m\u001b[0m_jsc\u001b[0m\u001b[1;33m.\u001b[0m\u001b[0msc\u001b[0m\u001b[1;33m(\u001b[0m\u001b[1;33m)\u001b[0m\u001b[1;33m,\u001b[0m \u001b[0mmappedRDD\u001b[0m\u001b[1;33m.\u001b[0m\u001b[0m_jrdd\u001b[0m\u001b[1;33m,\u001b[0m \u001b[0mpartitions\u001b[0m\u001b[1;33m)\u001b[0m\u001b[1;33m\u001b[0m\u001b[1;33m\u001b[0m\u001b[0m\n\u001b[0m\u001b[0;32m   1124\u001b[0m         \u001b[1;32mreturn\u001b[0m \u001b[0mlist\u001b[0m\u001b[1;33m(\u001b[0m\u001b[0m_load_from_socket\u001b[0m\u001b[1;33m(\u001b[0m\u001b[0msock_info\u001b[0m\u001b[1;33m,\u001b[0m \u001b[0mmappedRDD\u001b[0m\u001b[1;33m.\u001b[0m\u001b[0m_jrdd_deserializer\u001b[0m\u001b[1;33m)\u001b[0m\u001b[1;33m)\u001b[0m\u001b[1;33m\u001b[0m\u001b[1;33m\u001b[0m\u001b[0m\n\u001b[0;32m   1125\u001b[0m \u001b[1;33m\u001b[0m\u001b[0m\n",
      "\u001b[1;32mC:\\spark-3.0.0-preview2-bin-hadoop2\\spark-3.0.0-preview2-bin-hadoop2.7\\python\\lib\\py4j-0.10.8.1-src.zip\\py4j\\java_gateway.py\u001b[0m in \u001b[0;36m__call__\u001b[1;34m(self, *args)\u001b[0m\n\u001b[0;32m   1284\u001b[0m         \u001b[0manswer\u001b[0m \u001b[1;33m=\u001b[0m \u001b[0mself\u001b[0m\u001b[1;33m.\u001b[0m\u001b[0mgateway_client\u001b[0m\u001b[1;33m.\u001b[0m\u001b[0msend_command\u001b[0m\u001b[1;33m(\u001b[0m\u001b[0mcommand\u001b[0m\u001b[1;33m)\u001b[0m\u001b[1;33m\u001b[0m\u001b[1;33m\u001b[0m\u001b[0m\n\u001b[0;32m   1285\u001b[0m         return_value = get_return_value(\n\u001b[1;32m-> 1286\u001b[1;33m             answer, self.gateway_client, self.target_id, self.name)\n\u001b[0m\u001b[0;32m   1287\u001b[0m \u001b[1;33m\u001b[0m\u001b[0m\n\u001b[0;32m   1288\u001b[0m         \u001b[1;32mfor\u001b[0m \u001b[0mtemp_arg\u001b[0m \u001b[1;32min\u001b[0m \u001b[0mtemp_args\u001b[0m\u001b[1;33m:\u001b[0m\u001b[1;33m\u001b[0m\u001b[1;33m\u001b[0m\u001b[0m\n",
      "\u001b[1;32mC:\\spark-3.0.0-preview2-bin-hadoop2\\spark-3.0.0-preview2-bin-hadoop2.7\\python\\pyspark\\sql\\utils.py\u001b[0m in \u001b[0;36mdeco\u001b[1;34m(*a, **kw)\u001b[0m\n\u001b[0;32m     96\u001b[0m     \u001b[1;32mdef\u001b[0m \u001b[0mdeco\u001b[0m\u001b[1;33m(\u001b[0m\u001b[1;33m*\u001b[0m\u001b[0ma\u001b[0m\u001b[1;33m,\u001b[0m \u001b[1;33m**\u001b[0m\u001b[0mkw\u001b[0m\u001b[1;33m)\u001b[0m\u001b[1;33m:\u001b[0m\u001b[1;33m\u001b[0m\u001b[1;33m\u001b[0m\u001b[0m\n\u001b[0;32m     97\u001b[0m         \u001b[1;32mtry\u001b[0m\u001b[1;33m:\u001b[0m\u001b[1;33m\u001b[0m\u001b[1;33m\u001b[0m\u001b[0m\n\u001b[1;32m---> 98\u001b[1;33m             \u001b[1;32mreturn\u001b[0m \u001b[0mf\u001b[0m\u001b[1;33m(\u001b[0m\u001b[1;33m*\u001b[0m\u001b[0ma\u001b[0m\u001b[1;33m,\u001b[0m \u001b[1;33m**\u001b[0m\u001b[0mkw\u001b[0m\u001b[1;33m)\u001b[0m\u001b[1;33m\u001b[0m\u001b[1;33m\u001b[0m\u001b[0m\n\u001b[0m\u001b[0;32m     99\u001b[0m         \u001b[1;32mexcept\u001b[0m \u001b[0mpy4j\u001b[0m\u001b[1;33m.\u001b[0m\u001b[0mprotocol\u001b[0m\u001b[1;33m.\u001b[0m\u001b[0mPy4JJavaError\u001b[0m \u001b[1;32mas\u001b[0m \u001b[0me\u001b[0m\u001b[1;33m:\u001b[0m\u001b[1;33m\u001b[0m\u001b[1;33m\u001b[0m\u001b[0m\n\u001b[0;32m    100\u001b[0m             \u001b[0mconverted\u001b[0m \u001b[1;33m=\u001b[0m \u001b[0mconvert_exception\u001b[0m\u001b[1;33m(\u001b[0m\u001b[0me\u001b[0m\u001b[1;33m.\u001b[0m\u001b[0mjava_exception\u001b[0m\u001b[1;33m)\u001b[0m\u001b[1;33m\u001b[0m\u001b[1;33m\u001b[0m\u001b[0m\n",
      "\u001b[1;32mC:\\spark-3.0.0-preview2-bin-hadoop2\\spark-3.0.0-preview2-bin-hadoop2.7\\python\\lib\\py4j-0.10.8.1-src.zip\\py4j\\protocol.py\u001b[0m in \u001b[0;36mget_return_value\u001b[1;34m(answer, gateway_client, target_id, name)\u001b[0m\n\u001b[0;32m    326\u001b[0m                 raise Py4JJavaError(\n\u001b[0;32m    327\u001b[0m                     \u001b[1;34m\"An error occurred while calling {0}{1}{2}.\\n\"\u001b[0m\u001b[1;33m.\u001b[0m\u001b[1;33m\u001b[0m\u001b[1;33m\u001b[0m\u001b[0m\n\u001b[1;32m--> 328\u001b[1;33m                     format(target_id, \".\", name), value)\n\u001b[0m\u001b[0;32m    329\u001b[0m             \u001b[1;32melse\u001b[0m\u001b[1;33m:\u001b[0m\u001b[1;33m\u001b[0m\u001b[1;33m\u001b[0m\u001b[0m\n\u001b[0;32m    330\u001b[0m                 raise Py4JError(\n",
      "\u001b[1;31mPy4JJavaError\u001b[0m: An error occurred while calling z:org.apache.spark.api.python.PythonRDD.runJob.\n: org.apache.spark.SparkException: Job aborted due to stage failure: Task 0 in stage 0.0 failed 1 times, most recent failure: Lost task 0.0 in stage 0.0 (TID 0, Raaga.mshome.net, executor driver): java.net.SocketException: Connection reset by peer: socket write error\r\n\tat java.net.SocketOutputStream.socketWrite0(Native Method)\r\n\tat java.net.SocketOutputStream.socketWrite(Unknown Source)\r\n\tat java.net.SocketOutputStream.write(Unknown Source)\r\n\tat java.io.BufferedOutputStream.flushBuffer(Unknown Source)\r\n\tat java.io.BufferedOutputStream.write(Unknown Source)\r\n\tat java.io.DataOutputStream.writeInt(Unknown Source)\r\n\tat org.apache.spark.api.python.PythonRDD$.writeUTF(PythonRDD.scala:449)\r\n\tat org.apache.spark.api.python.PythonRDD$.write$1(PythonRDD.scala:270)\r\n\tat org.apache.spark.api.python.PythonRDD$.$anonfun$writeIteratorToStream$1(PythonRDD.scala:280)\r\n\tat org.apache.spark.api.python.PythonRDD$.$anonfun$writeIteratorToStream$1$adapted(PythonRDD.scala:280)\r\n\tat scala.collection.Iterator.foreach(Iterator.scala:941)\r\n\tat scala.collection.Iterator.foreach$(Iterator.scala:941)\r\n\tat scala.collection.AbstractIterator.foreach(Iterator.scala:1429)\r\n\tat org.apache.spark.api.python.PythonRDD$.writeIteratorToStream(PythonRDD.scala:280)\r\n\tat org.apache.spark.api.python.PythonRunner$$anon$2.writeIteratorToStream(PythonRunner.scala:588)\r\n\tat org.apache.spark.api.python.BasePythonRunner$WriterThread.$anonfun$run$1(PythonRunner.scala:373)\r\n\tat org.apache.spark.util.Utils$.logUncaughtExceptions(Utils.scala:1932)\r\n\tat org.apache.spark.api.python.BasePythonRunner$WriterThread.run(PythonRunner.scala:213)\r\n\nDriver stacktrace:\r\n\tat org.apache.spark.scheduler.DAGScheduler.failJobAndIndependentStages(DAGScheduler.scala:1989)\r\n\tat org.apache.spark.scheduler.DAGScheduler.$anonfun$abortStage$2(DAGScheduler.scala:1977)\r\n\tat org.apache.spark.scheduler.DAGScheduler.$anonfun$abortStage$2$adapted(DAGScheduler.scala:1976)\r\n\tat scala.collection.mutable.ResizableArray.foreach(ResizableArray.scala:62)\r\n\tat scala.collection.mutable.ResizableArray.foreach$(ResizableArray.scala:55)\r\n\tat scala.collection.mutable.ArrayBuffer.foreach(ArrayBuffer.scala:49)\r\n\tat org.apache.spark.scheduler.DAGScheduler.abortStage(DAGScheduler.scala:1976)\r\n\tat org.apache.spark.scheduler.DAGScheduler.$anonfun$handleTaskSetFailed$1(DAGScheduler.scala:956)\r\n\tat org.apache.spark.scheduler.DAGScheduler.$anonfun$handleTaskSetFailed$1$adapted(DAGScheduler.scala:956)\r\n\tat scala.Option.foreach(Option.scala:407)\r\n\tat org.apache.spark.scheduler.DAGScheduler.handleTaskSetFailed(DAGScheduler.scala:956)\r\n\tat org.apache.spark.scheduler.DAGSchedulerEventProcessLoop.doOnReceive(DAGScheduler.scala:2206)\r\n\tat org.apache.spark.scheduler.DAGSchedulerEventProcessLoop.onReceive(DAGScheduler.scala:2155)\r\n\tat org.apache.spark.scheduler.DAGSchedulerEventProcessLoop.onReceive(DAGScheduler.scala:2144)\r\n\tat org.apache.spark.util.EventLoop$$anon$1.run(EventLoop.scala:49)\r\n\tat org.apache.spark.scheduler.DAGScheduler.runJob(DAGScheduler.scala:758)\r\n\tat org.apache.spark.SparkContext.runJob(SparkContext.scala:2116)\r\n\tat org.apache.spark.SparkContext.runJob(SparkContext.scala:2137)\r\n\tat org.apache.spark.SparkContext.runJob(SparkContext.scala:2156)\r\n\tat org.apache.spark.api.python.PythonRDD$.runJob(PythonRDD.scala:154)\r\n\tat org.apache.spark.api.python.PythonRDD.runJob(PythonRDD.scala)\r\n\tat sun.reflect.NativeMethodAccessorImpl.invoke0(Native Method)\r\n\tat sun.reflect.NativeMethodAccessorImpl.invoke(Unknown Source)\r\n\tat sun.reflect.DelegatingMethodAccessorImpl.invoke(Unknown Source)\r\n\tat java.lang.reflect.Method.invoke(Unknown Source)\r\n\tat py4j.reflection.MethodInvoker.invoke(MethodInvoker.java:244)\r\n\tat py4j.reflection.ReflectionEngine.invoke(ReflectionEngine.java:357)\r\n\tat py4j.Gateway.invoke(Gateway.java:282)\r\n\tat py4j.commands.AbstractCommand.invokeMethod(AbstractCommand.java:132)\r\n\tat py4j.commands.CallCommand.execute(CallCommand.java:79)\r\n\tat py4j.GatewayConnection.run(GatewayConnection.java:238)\r\n\tat java.lang.Thread.run(Unknown Source)\r\nCaused by: java.net.SocketException: Connection reset by peer: socket write error\r\n\tat java.net.SocketOutputStream.socketWrite0(Native Method)\r\n\tat java.net.SocketOutputStream.socketWrite(Unknown Source)\r\n\tat java.net.SocketOutputStream.write(Unknown Source)\r\n\tat java.io.BufferedOutputStream.flushBuffer(Unknown Source)\r\n\tat java.io.BufferedOutputStream.write(Unknown Source)\r\n\tat java.io.DataOutputStream.writeInt(Unknown Source)\r\n\tat org.apache.spark.api.python.PythonRDD$.writeUTF(PythonRDD.scala:449)\r\n\tat org.apache.spark.api.python.PythonRDD$.write$1(PythonRDD.scala:270)\r\n\tat org.apache.spark.api.python.PythonRDD$.$anonfun$writeIteratorToStream$1(PythonRDD.scala:280)\r\n\tat org.apache.spark.api.python.PythonRDD$.$anonfun$writeIteratorToStream$1$adapted(PythonRDD.scala:280)\r\n\tat scala.collection.Iterator.foreach(Iterator.scala:941)\r\n\tat scala.collection.Iterator.foreach$(Iterator.scala:941)\r\n\tat scala.collection.AbstractIterator.foreach(Iterator.scala:1429)\r\n\tat org.apache.spark.api.python.PythonRDD$.writeIteratorToStream(PythonRDD.scala:280)\r\n\tat org.apache.spark.api.python.PythonRunner$$anon$2.writeIteratorToStream(PythonRunner.scala:588)\r\n\tat org.apache.spark.api.python.BasePythonRunner$WriterThread.$anonfun$run$1(PythonRunner.scala:373)\r\n\tat org.apache.spark.util.Utils$.logUncaughtExceptions(Utils.scala:1932)\r\n\tat org.apache.spark.api.python.BasePythonRunner$WriterThread.run(PythonRunner.scala:213)\r\n"
     ]
    }
   ],
   "source": [
    "spark_try.first()"
   ]
  },
  {
   "cell_type": "code",
   "execution_count": 11,
   "metadata": {},
   "outputs": [],
   "source": [
    "import pandas as pd\n",
    "import os\n",
    "# Download data into a pandas dataframe \n",
    "\n",
    "\n",
    "# Download data into a pandas dataframe \n",
    "# review_df = pd.read_csv(r\"C:\\Users\\raaga\\Desktop\\cmpe272\\Medicare_Provider_Util_Payment_PUF_CY2017.txt\", error_bad_lines=False)\n",
    "df_chunk = pd.read_csv(r\"C:\\Users\\raaga\\Desktop\\cmpe272\\Medicare_Provider_Util_Payment_PUF_CY2017.txt\",sep= '\\t', lineterminator = '\\r', chunksize =100000, error_bad_lines=False)"
   ]
  },
  {
   "cell_type": "code",
   "execution_count": 12,
   "metadata": {},
   "outputs": [
    {
     "name": "stderr",
     "output_type": "stream",
     "text": [
      "C:\\Users\\raaga\\anaconda3\\lib\\site-packages\\IPython\\core\\interactiveshell.py:3063: DtypeWarning: Columns (10) have mixed types.Specify dtype option on import or set low_memory=False.\n",
      "  interactivity=interactivity, compiler=compiler, result=result)\n",
      "C:\\Users\\raaga\\anaconda3\\lib\\site-packages\\IPython\\core\\interactiveshell.py:3063: DtypeWarning: Columns (0) have mixed types.Specify dtype option on import or set low_memory=False.\n",
      "  interactivity=interactivity, compiler=compiler, result=result)\n"
     ]
    }
   ],
   "source": [
    "chunk_list = []  # append each chunk df here \n",
    "\n",
    "# Each chunk is in df format\n",
    "for chunk in df_chunk:  \n",
    "\n",
    "    # Once the data filtering is done, append the chunk to list\n",
    "    chunk_list.append(chunk)\n",
    "    \n",
    "# concat the list into dataframe \n",
    "df = pd.concat(chunk_list)"
   ]
  },
  {
   "cell_type": "code",
   "execution_count": 13,
   "metadata": {},
   "outputs": [
    {
     "data": {
      "text/plain": [
       "['npi',\n",
       " 'nppes_provider_last_org_name',\n",
       " 'nppes_provider_first_name',\n",
       " 'nppes_provider_mi',\n",
       " 'nppes_credentials',\n",
       " 'nppes_provider_gender',\n",
       " 'nppes_entity_code',\n",
       " 'nppes_provider_street1',\n",
       " 'nppes_provider_street2',\n",
       " 'nppes_provider_city',\n",
       " 'nppes_provider_zip',\n",
       " 'nppes_provider_state',\n",
       " 'nppes_provider_country',\n",
       " 'provider_type',\n",
       " 'medicare_participation_indicator',\n",
       " 'place_of_service',\n",
       " 'hcpcs_code',\n",
       " 'hcpcs_description',\n",
       " 'hcpcs_drug_indicator',\n",
       " 'line_srvc_cnt',\n",
       " 'bene_unique_cnt',\n",
       " 'bene_day_srvc_cnt',\n",
       " 'average_Medicare_allowed_amt',\n",
       " 'average_submitted_chrg_amt',\n",
       " 'average_Medicare_payment_amt',\n",
       " 'average_Medicare_standard_amt']"
      ]
     },
     "execution_count": 13,
     "metadata": {},
     "output_type": "execute_result"
    }
   ],
   "source": [
    "list(df.columns.values)"
   ]
  },
  {
   "cell_type": "code",
   "execution_count": 14,
   "metadata": {
    "scrolled": true
   },
   "outputs": [],
   "source": [
    "df_after_drop = df.drop(columns =['nppes_provider_last_org_name', 'nppes_provider_first_name', 'nppes_provider_mi','nppes_provider_gender','nppes_provider_street1','nppes_provider_street2',]) "
   ]
  },
  {
   "cell_type": "code",
   "execution_count": 15,
   "metadata": {},
   "outputs": [
    {
     "name": "stdout",
     "output_type": "stream",
     "text": [
      "['npi' 'nppes_credentials' 'nppes_entity_code' 'nppes_provider_city'\n",
      " 'nppes_provider_zip' 'nppes_provider_state' 'nppes_provider_country'\n",
      " 'provider_type' 'medicare_participation_indicator' 'place_of_service'\n",
      " 'hcpcs_code' 'hcpcs_description' 'hcpcs_drug_indicator' 'line_srvc_cnt'\n",
      " 'bene_unique_cnt' 'bene_day_srvc_cnt' 'average_Medicare_allowed_amt'\n",
      " 'average_submitted_chrg_amt' 'average_Medicare_payment_amt'\n",
      " 'average_Medicare_standard_amt']\n"
     ]
    }
   ],
   "source": [
    "print(df_after_drop.columns.values)"
   ]
  },
  {
   "cell_type": "code",
   "execution_count": 18,
   "metadata": {},
   "outputs": [
    {
     "data": {
      "text/plain": [
       "count    9.847443e+06\n",
       "mean     2.448553e+02\n",
       "std      5.122602e+03\n",
       "min      2.400000e+00\n",
       "25%      2.100000e+01\n",
       "50%      4.300000e+01\n",
       "75%      1.170000e+02\n",
       "max      7.195536e+06\n",
       "Name: line_srvc_cnt, dtype: float64"
      ]
     },
     "execution_count": 18,
     "metadata": {},
     "output_type": "execute_result"
    }
   ],
   "source": [
    "df_after_drop['line_srvc_cnt'].describe()\n"
   ]
  },
  {
   "cell_type": "code",
   "execution_count": 19,
   "metadata": {},
   "outputs": [
    {
     "data": {
      "text/html": [
       "<div>\n",
       "<style scoped>\n",
       "    .dataframe tbody tr th:only-of-type {\n",
       "        vertical-align: middle;\n",
       "    }\n",
       "\n",
       "    .dataframe tbody tr th {\n",
       "        vertical-align: top;\n",
       "    }\n",
       "\n",
       "    .dataframe thead th {\n",
       "        text-align: right;\n",
       "    }\n",
       "</style>\n",
       "<table border=\"1\" class=\"dataframe\">\n",
       "  <thead>\n",
       "    <tr style=\"text-align: right;\">\n",
       "      <th></th>\n",
       "      <th>line_srvc_cnt</th>\n",
       "      <th>bene_unique_cnt</th>\n",
       "      <th>bene_day_srvc_cnt</th>\n",
       "      <th>average_Medicare_allowed_amt</th>\n",
       "      <th>average_submitted_chrg_amt</th>\n",
       "      <th>average_Medicare_payment_amt</th>\n",
       "      <th>average_Medicare_standard_amt</th>\n",
       "    </tr>\n",
       "  </thead>\n",
       "  <tbody>\n",
       "    <tr>\n",
       "      <th>line_srvc_cnt</th>\n",
       "      <td>2.624105e+07</td>\n",
       "      <td>2.396072e+06</td>\n",
       "      <td>4.425474e+06</td>\n",
       "      <td>-13764.565056</td>\n",
       "      <td>-5.402723e+04</td>\n",
       "      <td>-10502.385365</td>\n",
       "      <td>-10601.108644</td>\n",
       "    </tr>\n",
       "    <tr>\n",
       "      <th>bene_unique_cnt</th>\n",
       "      <td>2.396072e+06</td>\n",
       "      <td>1.363596e+06</td>\n",
       "      <td>2.242022e+06</td>\n",
       "      <td>-2228.980186</td>\n",
       "      <td>-9.797167e+03</td>\n",
       "      <td>-1686.093874</td>\n",
       "      <td>-1706.182822</td>\n",
       "    </tr>\n",
       "    <tr>\n",
       "      <th>bene_day_srvc_cnt</th>\n",
       "      <td>4.425474e+06</td>\n",
       "      <td>2.242022e+06</td>\n",
       "      <td>3.944085e+06</td>\n",
       "      <td>-4423.928849</td>\n",
       "      <td>-2.046894e+04</td>\n",
       "      <td>-3392.700629</td>\n",
       "      <td>-3422.247356</td>\n",
       "    </tr>\n",
       "    <tr>\n",
       "      <th>average_Medicare_allowed_amt</th>\n",
       "      <td>-1.376457e+04</td>\n",
       "      <td>-2.228980e+03</td>\n",
       "      <td>-4.423929e+03</td>\n",
       "      <td>76449.739033</td>\n",
       "      <td>2.185090e+05</td>\n",
       "      <td>59435.332096</td>\n",
       "      <td>59373.120783</td>\n",
       "    </tr>\n",
       "    <tr>\n",
       "      <th>average_submitted_chrg_amt</th>\n",
       "      <td>-5.402723e+04</td>\n",
       "      <td>-9.797167e+03</td>\n",
       "      <td>-2.046894e+04</td>\n",
       "      <td>218509.047534</td>\n",
       "      <td>1.132556e+06</td>\n",
       "      <td>169987.872949</td>\n",
       "      <td>169619.053791</td>\n",
       "    </tr>\n",
       "    <tr>\n",
       "      <th>average_Medicare_payment_amt</th>\n",
       "      <td>-1.050239e+04</td>\n",
       "      <td>-1.686094e+03</td>\n",
       "      <td>-3.392701e+03</td>\n",
       "      <td>59435.332096</td>\n",
       "      <td>1.699879e+05</td>\n",
       "      <td>46352.499412</td>\n",
       "      <td>46204.768569</td>\n",
       "    </tr>\n",
       "    <tr>\n",
       "      <th>average_Medicare_standard_amt</th>\n",
       "      <td>-1.060111e+04</td>\n",
       "      <td>-1.706183e+03</td>\n",
       "      <td>-3.422247e+03</td>\n",
       "      <td>59373.120783</td>\n",
       "      <td>1.696191e+05</td>\n",
       "      <td>46204.768569</td>\n",
       "      <td>46606.831227</td>\n",
       "    </tr>\n",
       "  </tbody>\n",
       "</table>\n",
       "</div>"
      ],
      "text/plain": [
       "                               line_srvc_cnt  bene_unique_cnt  \\\n",
       "line_srvc_cnt                   2.624105e+07     2.396072e+06   \n",
       "bene_unique_cnt                 2.396072e+06     1.363596e+06   \n",
       "bene_day_srvc_cnt               4.425474e+06     2.242022e+06   \n",
       "average_Medicare_allowed_amt   -1.376457e+04    -2.228980e+03   \n",
       "average_submitted_chrg_amt     -5.402723e+04    -9.797167e+03   \n",
       "average_Medicare_payment_amt   -1.050239e+04    -1.686094e+03   \n",
       "average_Medicare_standard_amt  -1.060111e+04    -1.706183e+03   \n",
       "\n",
       "                               bene_day_srvc_cnt  \\\n",
       "line_srvc_cnt                       4.425474e+06   \n",
       "bene_unique_cnt                     2.242022e+06   \n",
       "bene_day_srvc_cnt                   3.944085e+06   \n",
       "average_Medicare_allowed_amt       -4.423929e+03   \n",
       "average_submitted_chrg_amt         -2.046894e+04   \n",
       "average_Medicare_payment_amt       -3.392701e+03   \n",
       "average_Medicare_standard_amt      -3.422247e+03   \n",
       "\n",
       "                               average_Medicare_allowed_amt  \\\n",
       "line_srvc_cnt                                 -13764.565056   \n",
       "bene_unique_cnt                                -2228.980186   \n",
       "bene_day_srvc_cnt                              -4423.928849   \n",
       "average_Medicare_allowed_amt                   76449.739033   \n",
       "average_submitted_chrg_amt                    218509.047534   \n",
       "average_Medicare_payment_amt                   59435.332096   \n",
       "average_Medicare_standard_amt                  59373.120783   \n",
       "\n",
       "                               average_submitted_chrg_amt  \\\n",
       "line_srvc_cnt                               -5.402723e+04   \n",
       "bene_unique_cnt                             -9.797167e+03   \n",
       "bene_day_srvc_cnt                           -2.046894e+04   \n",
       "average_Medicare_allowed_amt                 2.185090e+05   \n",
       "average_submitted_chrg_amt                   1.132556e+06   \n",
       "average_Medicare_payment_amt                 1.699879e+05   \n",
       "average_Medicare_standard_amt                1.696191e+05   \n",
       "\n",
       "                               average_Medicare_payment_amt  \\\n",
       "line_srvc_cnt                                 -10502.385365   \n",
       "bene_unique_cnt                                -1686.093874   \n",
       "bene_day_srvc_cnt                              -3392.700629   \n",
       "average_Medicare_allowed_amt                   59435.332096   \n",
       "average_submitted_chrg_amt                    169987.872949   \n",
       "average_Medicare_payment_amt                   46352.499412   \n",
       "average_Medicare_standard_amt                  46204.768569   \n",
       "\n",
       "                               average_Medicare_standard_amt  \n",
       "line_srvc_cnt                                  -10601.108644  \n",
       "bene_unique_cnt                                 -1706.182822  \n",
       "bene_day_srvc_cnt                               -3422.247356  \n",
       "average_Medicare_allowed_amt                    59373.120783  \n",
       "average_submitted_chrg_amt                     169619.053791  \n",
       "average_Medicare_payment_amt                    46204.768569  \n",
       "average_Medicare_standard_amt                   46606.831227  "
      ]
     },
     "execution_count": 19,
     "metadata": {},
     "output_type": "execute_result"
    }
   ],
   "source": [
    "df_after_drop.cov()"
   ]
  },
  {
   "cell_type": "code",
   "execution_count": 25,
   "metadata": {},
   "outputs": [
    {
     "name": "stdout",
     "output_type": "stream",
     "text": [
      "                npi nppes_credentials nppes_entity_code nppes_provider_city  \\\n",
      "9500794  1962493031              M.D.                 I        OWINGS MILLS   \n",
      "363159   1033323092                MD                 I              STUART   \n",
      "986712   1104031343      RD, LDN, CDE                 I              POWELL   \n",
      "2451737  1245556695              M.D.                 I             CHICAGO   \n",
      "6287166  1639363138                MD                 I              OXNARD   \n",
      "...             ...               ...               ...                 ...   \n",
      "6356366  1649296732                MD                 I      EGG HARBOR TWP   \n",
      "6089598  1619956422              D.O.                 I             HOUSTON   \n",
      "3059148  1316010937               NaN                 O          WASHINGTON   \n",
      "236548   1023083169              M.D.                 I           ROCHESTER   \n",
      "4553845  1467438457                MD                 I             PHOENIX   \n",
      "\n",
      "        nppes_provider_zip nppes_provider_state nppes_provider_country  \\\n",
      "9500794          211175441                   MD                     US   \n",
      "363159           349942579                   FL                     US   \n",
      "986712           378494029                   TN                     US   \n",
      "2451737              60607                   IL                     US   \n",
      "6287166          930362213                   CA                     US   \n",
      "...                    ...                  ...                    ...   \n",
      "6356366           82345549                   NJ                     US   \n",
      "6089598          770742925                   TX                     US   \n",
      "3059148          615712170                   IL                     US   \n",
      "236548           559050001                   MN                     US   \n",
      "4553845          850164872                   AZ                     US   \n",
      "\n",
      "                                          provider_type  \\\n",
      "9500794                                 General Surgery   \n",
      "363159                                 Gastroenterology   \n",
      "986712   Registered Dietitian or Nutrition Professional   \n",
      "2451737                                     Dermatology   \n",
      "6287166                                Vascular Surgery   \n",
      "...                                                 ...   \n",
      "6356366                                 General Surgery   \n",
      "6089598                                 Family Practice   \n",
      "3059148                    Mass Immunizer Roster Biller   \n",
      "236548                                        Pathology   \n",
      "4553845                                    Hand Surgery   \n",
      "\n",
      "        medicare_participation_indicator place_of_service hcpcs_code  \\\n",
      "9500794                                Y                O      99214   \n",
      "363159                                 Y                F      43248   \n",
      "986712                                 Y                O      G0108   \n",
      "2451737                                Y                O      17000   \n",
      "6287166                                Y                O      99213   \n",
      "...                                  ...              ...        ...   \n",
      "6356366                                Y                O      99213   \n",
      "6089598                                Y                O      G0008   \n",
      "3059148                                Y                O      G0009   \n",
      "236548                                 Y                F      88342   \n",
      "4553845                                Y                O      99213   \n",
      "\n",
      "                                         hcpcs_description  \\\n",
      "9500794  Established patient office or other outpatient...   \n",
      "363159   Insertion of guide wire with dilation of esoph...   \n",
      "986712   Diabetes outpatient self-management training s...   \n",
      "2451737                         Destruction of skin growth   \n",
      "6287166  Established patient office or other outpatient...   \n",
      "...                                                    ...   \n",
      "6356366  Established patient office or other outpatient...   \n",
      "6089598          Administration of influenza virus vaccine   \n",
      "3059148             Administration of pneumococcal vaccine   \n",
      "236548    Tissue or cell analysis by immunologic technique   \n",
      "4553845  Established patient office or other outpatient...   \n",
      "\n",
      "        hcpcs_drug_indicator  line_srvc_cnt  bene_unique_cnt  \\\n",
      "9500794                    N           84.0             68.0   \n",
      "363159                     N           18.0             18.0   \n",
      "986712                     N          217.0             91.0   \n",
      "2451737                    N           67.0             62.0   \n",
      "6287166                    N          162.0             86.0   \n",
      "...                      ...            ...              ...   \n",
      "6356366                    N          100.0             61.0   \n",
      "6089598                    N           89.0             87.0   \n",
      "3059148                    N           25.0             25.0   \n",
      "236548                     N           38.0             29.0   \n",
      "4553845                    N          332.0            224.0   \n",
      "\n",
      "         bene_day_srvc_cnt  average_Medicare_allowed_amt  \\\n",
      "9500794               84.0                    115.760000   \n",
      "363159                18.0                    116.935000   \n",
      "986712               170.0                     51.330000   \n",
      "2451737               67.0                     57.285224   \n",
      "6287166              162.0                     76.780000   \n",
      "...                    ...                           ...   \n",
      "6356366              100.0                     79.380000   \n",
      "6089598               89.0                     26.120000   \n",
      "3059148               25.0                     17.798800   \n",
      "236548                29.0                     35.180000   \n",
      "4553845              332.0                     73.060000   \n",
      "\n",
      "         average_submitted_chrg_amt  average_Medicare_payment_amt  \\\n",
      "9500794                  165.000000                     82.492024   \n",
      "363159                   791.000000                     91.675000   \n",
      "986712                   113.262673                     36.160415   \n",
      "2451737                  112.079254                     42.849254   \n",
      "6287166                  100.000000                     57.447840   \n",
      "...                             ...                           ...   \n",
      "6356366                  139.000000                     56.334700   \n",
      "6089598                   30.000000                     25.600000   \n",
      "3059148                   18.586000                     17.442000   \n",
      "236548                    48.719474                     27.349474   \n",
      "4553845                  164.000000                     53.705120   \n",
      "\n",
      "         average_Medicare_standard_amt  \n",
      "9500794                      77.246548  \n",
      "363159                       91.533333  \n",
      "986712                       38.439124  \n",
      "2451737                      43.965821  \n",
      "6287166                      55.670679  \n",
      "...                                ...  \n",
      "6356366                      52.363600  \n",
      "6089598                      25.320000  \n",
      "3059148                      25.320000  \n",
      "236548                       29.452632  \n",
      "4553845                      54.735271  \n",
      "\n",
      "[9847445 rows x 20 columns]\n"
     ]
    }
   ],
   "source": [
    "rows = df_after_drop.sample(frac=1.0)\n",
    "print(rows)"
   ]
  },
  {
   "cell_type": "code",
   "execution_count": null,
   "metadata": {},
   "outputs": [],
   "source": [
    "import seaborn as sns\n",
    "import matplotlib.pyplot as plt\n",
    "# Distributed plot\n",
    "sns.distplot(rows['line_srvc_cnt'])\n",
    "plt.xlabel('services count plot') \n",
    "plt.show()"
   ]
  },
  {
   "cell_type": "code",
   "execution_count": 28,
   "metadata": {},
   "outputs": [
    {
     "data": {
      "text/plain": [
       "count    9.847443e+06\n",
       "mean     2.448553e+02\n",
       "std      5.122602e+03\n",
       "min      2.400000e+00\n",
       "25%      2.100000e+01\n",
       "50%      4.300000e+01\n",
       "75%      1.170000e+02\n",
       "max      7.195536e+06\n",
       "Name: line_srvc_cnt, dtype: float64"
      ]
     },
     "execution_count": 28,
     "metadata": {},
     "output_type": "execute_result"
    }
   ],
   "source": [
    "rows['line_srvc_cnt'].describe()"
   ]
  },
  {
   "cell_type": "code",
   "execution_count": 31,
   "metadata": {},
   "outputs": [
    {
     "data": {
      "image/png": "[encoded data removed]",
      "text/plain": [
       "<Figure size 432x288 with 1 Axes>"
      ]
     },
     "metadata": {
      "needs_background": "light"
     },
     "output_type": "display_data"
    },
    {
     "data": {
      "text/plain": [
       "count    9.847443e+06\n",
       "mean     3.515861e+02\n",
       "std      1.064216e+03\n",
       "min      6.035380e-05\n",
       "25%      5.800000e+01\n",
       "50%      1.460000e+02\n",
       "75%      3.000000e+02\n",
       "max      9.999999e+04\n",
       "Name: average_submitted_chrg_amt, dtype: float64"
      ]
     },
     "execution_count": 31,
     "metadata": {},
     "output_type": "execute_result"
    }
   ],
   "source": [
    "sns.distplot(rows['average_submitted_chrg_amt'])\n",
    "plt.xlabel('average submitted charge plot') \n",
    "plt.show()\n",
    "rows['average_submitted_chrg_amt'].describe()"
   ]
  },
  {
   "cell_type": "code",
   "execution_count": 33,
   "metadata": {},
   "outputs": [],
   "source": [
    "def getDistPlot_Desc(colname):\n",
    "    sns.distplot(df_after_drop[colname])\n",
    "    plt.xlabel(colname+\" plot\") \n",
    "    plt.show()\n",
    "    df_after_drop[colname].describe()"
   ]
  },
  {
   "cell_type": "code",
   "execution_count": 36,
   "metadata": {
    "scrolled": true
   },
   "outputs": [
    {
     "data": {
      "image/png": "[encoded data removed]",
      "text/plain": [
       "<Figure size 432x288 with 1 Axes>"
      ]
     },
     "metadata": {
      "needs_background": "light"
     },
     "output_type": "display_data"
    },
    {
     "data": {
      "text/plain": [
       "count    9.847443e+06\n",
       "mean     1.015993e+02\n",
       "std      2.764955e+02\n",
       "min      6.035380e-05\n",
       "25%      2.426084e+01\n",
       "50%      6.499769e+01\n",
       "75%      1.135045e+02\n",
       "max      5.668435e+04\n",
       "Name: average_Medicare_allowed_amt, dtype: float64"
      ]
     },
     "execution_count": 36,
     "metadata": {},
     "output_type": "execute_result"
    }
   ],
   "source": [
    "getDistPlot_Desc('average_Medicare_allowed_amt')\n",
    "df_after_drop['average_Medicare_allowed_amt'].describe()"
   ]
  },
  {
   "cell_type": "code",
   "execution_count": 42,
   "metadata": {},
   "outputs": [
    {
     "data": {
      "text/plain": [
       "<seaborn.axisgrid.FacetGrid at 0x26f22f6e048>"
      ]
     },
     "execution_count": 42,
     "metadata": {},
     "output_type": "execute_result"
    },
    {
     "data": {
      "image/png": "[encoded data removed]",
      "text/plain": [
       "<Figure size 360x360 with 1 Axes>"
      ]
     },
     "metadata": {
      "needs_background": "light"
     },
     "output_type": "display_data"
    }
   ],
   "source": [
    "plot_df = df_after_drop[['average_submitted_chrg_amt','average_Medicare_payment_amt']].sample(frac=0.05)\n",
    "sns.lmplot(y = 'average_submitted_chrg_amt', x = 'average_Medicare_payment_amt', data=plot_df)\n"
   ]
  },
  {
   "cell_type": "code",
   "execution_count": 43,
   "metadata": {},
   "outputs": [
    {
     "data": {
      "text/plain": [
       "<seaborn.axisgrid.FacetGrid at 0x26f22fc4988>"
      ]
     },
     "execution_count": 43,
     "metadata": {},
     "output_type": "execute_result"
    },
    {
     "data": {
      "image/png": "[encoded data removed]",
      "text/plain": [
       "<Figure size 360x360 with 1 Axes>"
      ]
     },
     "metadata": {
      "needs_background": "light"
     },
     "output_type": "display_data"
    }
   ],
   "source": [
    "plot_df = df_after_drop[['average_submitted_chrg_amt','average_Medicare_allowed_amt']].sample(frac=0.005)\n",
    "sns.lmplot(y = 'average_submitted_chrg_amt', x = 'average_Medicare_allowed_amt', data=plot_df)\n"
   ]
  },
  {
   "cell_type": "code",
   "execution_count": 64,
   "metadata": {},
   "outputs": [],
   "source": [
    "def get_average(country,service):\n",
    "    df_hdcps_description=df_after_drop.loc[df_after_drop['hcpcs_description']==service]\n",
    "    df_country = df_hdcps_description.loc[df_hdcps_description[country]\n",
    "    df_average_US =df_country['average_submitted_chrg_amt']\n",
    "    return df_average_US"
   ]
  },
  {
   "cell_type": "code",
   "execution_count": 65,
   "metadata": {},
   "outputs": [],
   "source": [
    "countries_list = df_after_drop['nppes_provider_country'].unique()"
   ]
  },
  {
   "cell_type": "code",
   "execution_count": 66,
   "metadata": {},
   "outputs": [
    {
     "name": "stdout",
     "output_type": "stream",
     "text": [
      "5468\n"
     ]
    }
   ],
   "source": [
    "services = df_after_drop['hcpcs_description'].unique()\n",
    "print(len(services))"
   ]
  },
  {
   "cell_type": "code",
   "execution_count": 79,
   "metadata": {},
   "outputs": [],
   "source": [
    "def get_unique_services_in_country(country):\n",
    "    df_country=df_after_drop.loc[df_after_drop['nppes_provider_country']==country]\n",
    "    services = df_country['hcpcs_description'].unique()\n",
    "    return services\n",
    "    "
   ]
  },
  {
   "cell_type": "code",
   "execution_count": 80,
   "metadata": {},
   "outputs": [
    {
     "name": "stdout",
     "output_type": "stream",
     "text": [
      "<class 'list'>\n"
     ]
    }
   ],
   "source": [
    "from functools import reduce\n",
    "list_services=[]\n",
    "for country in countries_list[1:]:\n",
    "#     print(country)\n",
    "    list_services.append(get_unique_services_in_country(country))\n",
    "print(type(list_services))   \n",
    "# res = list(set.intersection(*map(set, list_services))) \n",
    "# print(res)"
   ]
  },
  {
   "cell_type": "code",
   "execution_count": 82,
   "metadata": {},
   "outputs": [
    {
     "name": "stdout",
     "output_type": "stream",
     "text": [
      "['Vaccine for influenza for administration into muscle, 0.5 ml dosage'\n",
      " 'New patient office or other outpatient visit, typically 30 minutes'\n",
      " 'Established patient office or other outpatient visit, typically 15 minutes'\n",
      " 'Established patient office or other outpatient, visit typically 25 minutes'\n",
      " 'Administration of influenza virus vaccine']\n"
     ]
    }
   ],
   "source": [
    "list_serv = get_unique_services_in_country('CN')\n",
    "print(list_serv)"
   ]
  },
  {
   "cell_type": "code",
   "execution_count": 83,
   "metadata": {},
   "outputs": [
    {
     "ename": "NameError",
     "evalue": "name 'pkmn_type_colors' is not defined",
     "output_type": "error",
     "traceback": [
      "\u001b[1;31m---------------------------------------------------------------------------\u001b[0m",
      "\u001b[1;31mNameError\u001b[0m                                 Traceback (most recent call last)",
      "\u001b[1;32m<ipython-input-83-e7c3188bcbd5>\u001b[0m in \u001b[0;36m<module>\u001b[1;34m\u001b[0m\n\u001b[0;32m      1\u001b[0m \u001b[0mdf_country\u001b[0m\u001b[1;33m=\u001b[0m\u001b[0mdf_after_drop\u001b[0m\u001b[1;33m.\u001b[0m\u001b[0mloc\u001b[0m\u001b[1;33m[\u001b[0m\u001b[0mdf_after_drop\u001b[0m\u001b[1;33m[\u001b[0m\u001b[1;34m'nppes_provider_country'\u001b[0m\u001b[1;33m]\u001b[0m\u001b[1;33m==\u001b[0m\u001b[1;34m'US'\u001b[0m\u001b[1;33m]\u001b[0m\u001b[1;33m\u001b[0m\u001b[1;33m\u001b[0m\u001b[0m\n\u001b[0;32m      2\u001b[0m sns.swarmplot(x='hcpcs_description', y='average_submitted_chrg_amt', data=df_country, \n\u001b[1;32m----> 3\u001b[1;33m               palette=pkmn_type_colors)\n\u001b[0m",
      "\u001b[1;31mNameError\u001b[0m: name 'pkmn_type_colors' is not defined"
     ]
    }
   ],
   "source": [
    "df_country=df_after_drop.loc[df_after_drop['nppes_provider_country']=='US']\n",
    "sns.swarmplot(x='hcpcs_description', y='average_submitted_chrg_amt', data=df_country, \n",
    "              palette=pkmn_type_colors)"
   ]
  },
  {
   "cell_type": "code",
   "execution_count": null,
   "metadata": {},
   "outputs": [
    {
     "name": "stderr",
     "output_type": "stream",
     "text": [
      "C:\\Users\\raaga\\anaconda3\\lib\\site-packages\\seaborn\\axisgrid.py:861: UserWarning: Tight layout not applied. The left and right margins cannot be made large enough to accommodate all axes decorations. \n",
      "  self.fig.tight_layout()\n"
     ]
    }
   ],
   "source": [
    "sns.lmplot(x='hcpcs_description', y='average_submitted_chrg_amt', data=df_country,\n",
    "           fit_reg=False, \n",
    "           hue='nppes_provider_country')\n",
    " \n",
    "# Tweak using Matplotlib\n",
    "plt.ylim(0, None)\n",
    "plt.xlim(0, None)\n"
   ]
  },
  {
   "cell_type": "code",
   "execution_count": 71,
   "metadata": {},
   "outputs": [
    {
     "name": "stdout",
     "output_type": "stream",
     "text": [
      "US nan\n",
      "0\n",
      "nan\n",
      "US Hospital observation care discharge\n",
      "34652\n",
      "198.69073661240142\n",
      "US Hospital observation care typically 30 minutes\n",
      "2623\n",
      "251.72498556492454\n",
      "US Hospital observation care typically 50 minutes\n",
      "15105\n",
      "321.04153381444473\n",
      "US Hospital observation care typically 70 minutes per day\n",
      "31413\n",
      "513.7135509132186\n",
      "US Initial hospital inpatient care, typically 30 minutes per day\n",
      "41777\n",
      "250.9768938122365\n",
      "US Initial hospital inpatient care, typically 50 minutes per day\n",
      "111434\n",
      "315.7385431257722\n",
      "US Initial hospital inpatient care, typically 70 minutes per day\n",
      "133360\n",
      "464.54585548963905\n",
      "US Subsequent hospital inpatient care, typically 25 minutes per day\n",
      "175318\n",
      "172.78558185231432\n",
      "US Subsequent hospital inpatient care, typically 35 minutes per day\n",
      "120656\n",
      "253.8123494986277\n",
      "US Hospital discharge day management, more than 30 minutes\n",
      "53928\n",
      "275.0803917776832\n",
      "US Critical care delivery critically ill or injured patient, first 30-74 minutes\n",
      "62675\n",
      "953.2071815435979\n",
      "US Pathology examination of tissue using a microscope, moderately low complexity\n",
      "10582\n",
      "101.71978763518084\n",
      "US Pathology examination of tissue using a microscope, intermediate complexity\n",
      "18544\n",
      "169.97456652685963\n",
      "US Special stained specimen slides to identify organisms including interpretation and report\n",
      "9116\n",
      "117.54334316235864\n",
      "US Special stained specimen slides to examine tissue including interpretation and report\n",
      "8384\n",
      "79.95916685386847\n",
      "US Surgical pathology consultation and report\n",
      "3093\n",
      "278.3694571863443\n",
      "US Special stained specimen slides to examine tissue\n",
      "11965\n",
      "128.8448379829242\n",
      "US Tissue or cell analysis by immunologic technique\n",
      "12738\n",
      "157.34773521869712\n",
      "US Antibody evaluation\n",
      "1424\n",
      "141.6416515495903\n",
      "US Microscopic genetic analysis of tumor\n",
      "5190\n",
      "202.50551399513026\n",
      "US Preparation of specimen, manual\n",
      "217\n",
      "188.42056772927648\n",
      "US Aspiration and/or injection of major joint or joint capsule with recording and reporting using ultrasound guidance\n",
      "6574\n",
      "360.8055881245864\n",
      "US Injection of substance into spinal canal of lower back or sacrum using imaging guidance\n",
      "9760\n",
      "1060.5658104409624\n",
      "US Implantation of spinal neurostimulator electrodes, accessed through the skin\n",
      "1460\n",
      "6703.246658292929\n",
      "US Injections of anesthetic and/or steroid drug into lower or sacral spine nerve root using imaging guidance\n",
      "13570\n",
      "1072.6321837260698\n",
      "US Injections of upper or middle spine facet joint using imaging guidance\n",
      "8770\n",
      "914.8926065301231\n",
      "US Injections of lower or sacral spine facet joint using imaging guidance\n",
      "18879\n",
      "895.2869495102466\n",
      "US Destruction of lower or sacral spinal facet joint nerves using imaging guidance\n",
      "5487\n",
      "2012.361602865685\n",
      "US Destruction of lower or sacral spinal facet joint nerves with imaging guidance\n",
      "4207\n",
      "717.055045287683\n",
      "US Electronic analysis and programming of implanted complex spinal cord or peripheral neurostimulator generator system during or after surgery, first hour\n",
      "1105\n",
      "283.8038166488362\n",
      "US Moderate sedation services by physician also performing a procedure, patient 5 years of age or older, first 15 minutes\n",
      "17496\n",
      "106.30513794997928\n",
      "US New patient office or other outpatient visit, typically 45 minutes\n",
      "179557\n",
      "325.56338147777166\n",
      "US New patient office or other outpatient visit, typically 60 minutes\n",
      "62425\n",
      "426.03085810899836\n",
      "US Established patient office or other outpatient visit, typically 15 minutes\n",
      "457817\n",
      "139.39098092193586\n",
      "US Established patient office or other outpatient, visit typically 25 minutes\n",
      "428241\n",
      "206.37376674498321\n",
      "US Established patient office or other outpatient, visit typically 40 minutes\n",
      "119754\n",
      "290.68721918654916\n",
      "US Subsequent observation care, typically 35 minutes per day\n",
      "6043\n",
      "284.5143472041105\n",
      "US Subsequent hospital inpatient care, typically 15 minutes per day\n",
      "69461\n",
      "102.32655261023264\n",
      "US Initial nursing facility visit, typically 45 minutes per day\n",
      "15365\n",
      "294.35750326534094\n",
      "US Nursing facility discharge management, more than 30 minutes\n",
      "7118\n",
      "199.71253372588362\n",
      "US Cervical or vaginal cancer screening; pelvic and clinical breast examination\n",
      "19047\n",
      "86.47699428230814\n",
      "US Screening papanicolaou smear; obtaining, preparing and conveyance of cervical or vaginal smear to laboratory\n",
      "11881\n",
      "77.50820791391399\n",
      "US New patient office or other outpatient visit, typically 20 minutes\n",
      "48222\n",
      "141.65943138303535\n",
      "US New patient office or other outpatient visit, typically 30 minutes\n",
      "178046\n",
      "212.38350838298487\n",
      "US Established patient office or other outpatient visit, typically 10 minutes\n",
      "133171\n",
      "86.89318808711917\n",
      "US Aspiration and/or injection of large joint or joint capsule\n",
      "47207\n",
      "236.8100698402017\n",
      "US Removal of impact ear wax, one ear\n",
      "18200\n",
      "107.33457787889147\n",
      "US Urinalysis, manual test\n",
      "45102\n",
      "14.27238725532367\n",
      "US Hemoglobin A1C level\n",
      "43934\n",
      "38.206731963782254\n",
      "US Vaccine for influenza for injection into muscle\n",
      "110850\n",
      "56.62537940422574\n",
      "US Pneumococcal vaccine for injection into muscle\n",
      "67292\n",
      "250.55440067470357\n",
      "US Vaccine for influenza for administration into muscle, 0.5 ml dosage\n",
      "70354\n",
      "31.17040706343236\n",
      "US Vaccine for pneumococcal polysaccharide for injection beneath the skin or into muscle, patient 2 years or older\n",
      "42818\n",
      "122.96836718886372\n",
      "US Routine EKG using at least 12 leads including interpretation and report\n",
      "84388\n",
      "63.81491256854301\n",
      "US Injection beneath the skin or into muscle for therapy, diagnosis, or prevention\n",
      "70310\n",
      "49.711107161293874\n",
      "US Administration of influenza virus vaccine\n",
      "145178\n",
      "34.110751259662415\n",
      "US Administration of pneumococcal vaccine\n",
      "86717\n",
      "36.4877940586233\n",
      "US Annual wellness visit, includes a personalized prevention plan of service (pps), subsequent visit\n",
      "76369\n",
      "221.39087669319647\n",
      "US Injection, methylprednisolone acetate, 40 mg\n",
      "20285\n",
      "19.281071017739293\n",
      "US Stool analysis for blood to screen for colon tumors\n",
      "6339\n",
      "16.80840846654914\n",
      "US Transitional care management services, highly complexity, requiring face-to-face visits within 7 days of discharge\n",
      "14022\n",
      "406.79350780044615\n",
      "US Initial preventive physical examination; face-to-face visit, services limited to new beneficiary during the first 12 months of medicare enrollment\n",
      "13293\n",
      "272.80281404930093\n",
      "US Annual wellness visit; includes a personalized prevention plan of service (pps), initial visit\n",
      "26659\n",
      "299.1440782993077\n",
      "US Insertion of temporary bladder catheter\n",
      "2459\n",
      "161.4121950079973\n",
      "US Ultrasound measurement of bladder capacity after voiding\n",
      "8524\n",
      "75.29248095992816\n",
      "US Diagnostic examination of the bladder and bladder canal (urethra) using an endoscope\n",
      "9594\n",
      "593.1848807852106\n",
      "US Removal of foreign body, stone, or stent from bladder canal (urethra) or bladder using an endoscope\n",
      "2705\n",
      "862.4444055740472\n",
      "US Insertion of stent in urinary duct (ureter) using an endoscope\n",
      "4282\n",
      "1436.9798858567826\n",
      "US Crushing of stone in urinary duct (ureter) with stent using an endoscope\n",
      "2152\n",
      "2264.734449793484\n",
      "US Laser vaporization of prostate including control of bleeding using an endoscope\n",
      "702\n",
      "4590.469021930839\n",
      "US Biopsy of prostate gland\n",
      "5079\n",
      "710.3050554134127\n",
      "US Ultrasound of rectum\n",
      "5205\n",
      "294.69625882117856\n",
      "US Ultrasonic guidance imaging supervision and interpretation for insertion of needle\n",
      "26390\n",
      "279.94208046087033\n",
      "US Automated urinalysis test\n",
      "45285\n",
      "14.681124929381976\n",
      "US Interpretation and report of heart ultrasound examination using esophageal probe\n",
      "416\n",
      "300.18821969830054\n",
      "US Anesthesia for lens surgery\n",
      "23189\n",
      "740.3059625738314\n",
      "US Anesthesia for open or endoscopic total knee joint replacement\n",
      "13787\n",
      "1838.3042233786023\n",
      "US Anesthesia for procedure on nerves, muscles, tendons, fascia, and bursae of forearm, wrist, and hand\n",
      "6309\n",
      "729.8358431600453\n",
      "US Injection of anesthetic agent, sciatic nerve\n",
      "1159\n",
      "611.1730970331054\n",
      "US Injection of anesthetic agent, thigh nerve\n",
      "5329\n",
      "800.8658324547184\n",
      "US Extensive removal of shoulder joint tissue using an endoscope\n",
      "2047\n",
      "3599.692743333077\n",
      "US Shaving of shoulder bone using an endoscope\n",
      "3435\n",
      "1788.6139459699268\n",
      "US Repair of shoulder rotator cuff using an endoscope\n",
      "3593\n",
      "4714.715468664181\n",
      "US X-ray of shoulder, minimum of 2 views\n",
      "41927\n",
      "69.38642187307343\n",
      "US X-ray of knee, 3 views\n",
      "30494\n",
      "74.64985074129159\n",
      "US Ultrasound of leg or arm\n",
      "1999\n",
      "263.30031553103726\n",
      "US Injection, methylprednisolone acetate, 80 mg\n",
      "16000\n",
      "29.061054498812698\n",
      "US Hyaluronan or derivative, synvisc or synvisc-one, for intra-articular injection, 1 mg\n",
      "3716\n",
      "29.44436573336145\n",
      "US Therapeutic exercise to develop strength, endurance, range of motion, and flexibility, each 15 minutes\n"
     ]
    },
    {
     "name": "stdout",
     "output_type": "stream",
     "text": [
      "56359\n",
      "62.43706925154993\n",
      "US Therapeutic procedure to re-educate brain-to-nerve-to-muscle function, each 15 minutes\n",
      "31979\n",
      "62.48033950314591\n",
      "US Manual (physical) therapy techniques to 1 or more regions, each 15 minutes\n",
      "49360\n",
      "60.199974931636845\n",
      "US Evaluation of physical therapy, typically 20 minutes\n",
      "27253\n",
      "151.79618479028647\n",
      "US External EKG recording for more than 48 hours up to 21 days\n",
      "1283\n",
      "123.71350281182148\n",
      "US Review and interpretation of external EKG recording for more than 48 hours up to 21 days\n",
      "1969\n",
      "121.08729554038351\n",
      "US Insertion of needle into vein for collection of blood sample\n",
      "97236\n",
      "14.67882034813121\n",
      "US Routine electrocardiogram (EKG) using at least 12 leads with interpretation and report\n",
      "59438\n",
      "47.40261569843805\n",
      "US Heart rhythm tracing, analysis, and interpretation of 48-hour EKG\n",
      "14857\n",
      "209.3235910793847\n",
      "US Heart rhythm symptom-related tracing of 24-hour EKG monitoring up to 30 days\n",
      "918\n",
      "80.34706616629462\n",
      "US Heart rhythm symptom-related interpretation of 24-hour EKG monitoring up to 30 days\n",
      "2878\n",
      "88.76433110816338\n",
      "US Evaluation, testing, and programming adjustment of permanent single lead pacemaker system with physician analysis, review, and report\n",
      "3751\n",
      "124.12676468715067\n",
      "US Evaluation, testing, and programming adjustment of permanent dual lead pacemaker system with physician analysis, review, and report\n",
      "10666\n",
      "143.9189733645233\n",
      "US Evaluation, testing and programming adjustment of defibrillator with analysis, review and report\n",
      "10869\n",
      "201.24406880932298\n",
      "US Ultrasound examination of heart including color-depicted blood flow rate, direction, and valve function\n",
      "38189\n",
      "448.69522284349233\n",
      "US Follow-up or limited ultrasound examination of heart\n",
      "8112\n",
      "158.32307491362073\n",
      "US Insertion of probe in esophagus for heart ultrasound examination including interpretation and report\n",
      "8835\n",
      "496.97923152027374\n",
      "US Doppler ultrasound study of heart blood flow, valves, and chambers\n",
      "8053\n",
      "144.61976147211467\n",
      "US Follow-up or limited heart doppler ultrasound study of heart blood flow, valves, and chambers\n",
      "4070\n",
      "61.87182595908497\n",
      "US Doppler ultrasound study of color-directed heart blood flow, rate, and valve function\n",
      "11021\n",
      "97.40644401506304\n",
      "US Insertion of catheter for imaging of heart blood vessels or grafts\n",
      "3438\n",
      "1094.7893958820848\n",
      "US Biopsy of single growth of skin and/or tissue\n",
      "17445\n",
      "191.55995363019267\n",
      "US Destruction of skin growth\n",
      "21695\n",
      "140.43758421811174\n",
      "US Destruction of 2-14 skin growths\n",
      "17800\n",
      "23.939657245246565\n",
      "US Destruction of 15 or more skin growths\n",
      "9995\n",
      "309.3025227184761\n",
      "US Destruction of up to 14 skin growths\n",
      "15882\n",
      "197.98688604908293\n",
      "US Skin application of tar and ultraviolet B or petrolatum and ultraviolet B\n",
      "946\n",
      "134.45982327197353\n",
      "US Injection, betamethasone acetate 3 mg and betamethasone sodium phosphate 3 mg\n",
      "11318\n",
      "16.659120985951027\n",
      "US Injection, triamcinolone acetonide, not otherwise specified, 10 mg\n",
      "32790\n",
      "11.120649024283416\n",
      "US Hospital discharge day management, 30 minutes or less\n",
      "51738\n",
      "176.63525673700263\n",
      "US Psychotherapy, 60 minutes\n",
      "18001\n",
      "174.8895017116671\n",
      "US Eye and medical examination for diagnosis and treatment, established patient\n",
      "24369\n",
      "129.7503964530904\n",
      "US Photography of the retina\n",
      "23050\n",
      "114.67161511153247\n",
      "US Injections of trigger points in 3 or more muscles\n",
      "3703\n",
      "238.81752745683107\n",
      "US Injection of substance into spinal canal of upper or middle back using imaging guidance\n",
      "4926\n",
      "1244.7267991933988\n",
      "US Testing for presence of drug\n",
      "10140\n",
      "152.13585364790913\n",
      "US Tracing of electrical activity of heart using 1-3 leads with interpretation and report\n",
      "1110\n",
      "44.60934932046664\n",
      "US Testing of autonomic (sympathetic) nervous system function, at least 5 minutes of tilt\n",
      "313\n",
      "319.1304591334503\n",
      "US Psychological testing with interpretation and report by computer\n",
      "1314\n",
      "102.01466259930297\n",
      "US Drug test(s), definitive, utilizing drug identification methods able to identify individual drugs and distinguish between structural isomers (but not necessarily stereoisomers), including, but not limited to gc/ms (any type, single or tandem) and lc/ms (an\n",
      "4822\n",
      "659.1528340147077\n",
      "US Injection, dexamethasone sodium phosphate, 1 mg\n",
      "24188\n",
      "7.042622874009041\n",
      "US Low osmolar contrast material, 200-299 mg/ml iodine concentration, per ml\n",
      "1630\n",
      "16.364535590552673\n",
      "US Low osmolar contrast material, 300-399 mg/ml iodine concentration, per ml\n",
      "11006\n",
      "4.286987275339336\n",
      "US Injection of chemical for destruction of nerve muscles on arm or leg, 1-4 muscles\n",
      "650\n",
      "386.30265363687676\n",
      "US Electrical stimulation for guidance with injection of chemical for destruction of muscles\n",
      "74\n",
      "153.3664786081081\n",
      "US Injection, onabotulinumtoxina, 1 unit\n",
      "2867\n",
      "12.4443373587768\n",
      "US CT scan guidance for insertion of radiation therapy fields\n",
      "4038\n",
      "278.7980508121655\n",
      "US Management of radiation therapy, complex\n",
      "4603\n",
      "736.181594237283\n",
      "US Management of radiation therapy simulation, simple\n",
      "4050\n",
      "343.76457671014646\n",
      "US Management of radiation therapy, simulation, complex\n",
      "4215\n",
      "723.5971687301555\n",
      "US Management of radiation therapy, 3D\n",
      "3704\n",
      "1444.2256663344367\n",
      "US Calculation of radiation therapy dose\n",
      "4788\n",
      "175.91616771008225\n",
      "US Management of modulation radiotherapy planning\n",
      "3330\n",
      "3019.2877040877747\n",
      "US Radiation treatment devices, design and construction, simple\n",
      "1137\n",
      "155.79573380018394\n",
      "US Radiation treatment devices, design and construction, complex\n",
      "4777\n",
      "347.88960524803827\n",
      "US Radiation therapy consultation per week\n",
      "1560\n",
      "287.50361098674824\n",
      "US Design and construction of device for radiation therapy\n",
      "3345\n",
      "1101.452429594615\n",
      "US Therapeutic radiology port films\n",
      "796\n",
      "91.00523695506656\n",
      "US Radiation treatment management, 5 treatments\n",
      "5041\n",
      "725.482699389795\n",
      "US Special radiation treatment procedure\n"
     ]
    },
    {
     "ename": "KeyboardInterrupt",
     "evalue": "",
     "output_type": "error",
     "traceback": [
      "\u001b[1;31m---------------------------------------------------------------------------\u001b[0m",
      "\u001b[1;31mKeyboardInterrupt\u001b[0m                         Traceback (most recent call last)",
      "\u001b[1;32m<ipython-input-71-5f14372cbbc3>\u001b[0m in \u001b[0;36m<module>\u001b[1;34m\u001b[0m\n\u001b[0;32m      2\u001b[0m     \u001b[1;32mfor\u001b[0m \u001b[0mservice\u001b[0m \u001b[1;32min\u001b[0m \u001b[0mservices\u001b[0m\u001b[1;33m:\u001b[0m\u001b[1;33m\u001b[0m\u001b[1;33m\u001b[0m\u001b[0m\n\u001b[0;32m      3\u001b[0m         \u001b[0mprint\u001b[0m\u001b[1;33m(\u001b[0m\u001b[0mstr\u001b[0m\u001b[1;33m(\u001b[0m\u001b[0mcountry\u001b[0m\u001b[1;33m)\u001b[0m\u001b[1;33m+\u001b[0m\u001b[1;34m\" \"\u001b[0m\u001b[1;33m+\u001b[0m\u001b[0mstr\u001b[0m\u001b[1;33m(\u001b[0m\u001b[0mservice\u001b[0m\u001b[1;33m)\u001b[0m\u001b[1;33m)\u001b[0m\u001b[1;33m\u001b[0m\u001b[1;33m\u001b[0m\u001b[0m\n\u001b[1;32m----> 4\u001b[1;33m         \u001b[0mprint\u001b[0m\u001b[1;33m(\u001b[0m\u001b[0mget_average\u001b[0m\u001b[1;33m(\u001b[0m\u001b[0mcountry\u001b[0m\u001b[1;33m,\u001b[0m\u001b[0mservice\u001b[0m\u001b[1;33m)\u001b[0m\u001b[1;33m.\u001b[0m\u001b[0mcount\u001b[0m\u001b[1;33m(\u001b[0m\u001b[1;33m)\u001b[0m\u001b[1;33m)\u001b[0m\u001b[1;33m\u001b[0m\u001b[1;33m\u001b[0m\u001b[0m\n\u001b[0m\u001b[0;32m      5\u001b[0m         \u001b[0mprint\u001b[0m\u001b[1;33m(\u001b[0m\u001b[0mget_average\u001b[0m\u001b[1;33m(\u001b[0m\u001b[0mcountry\u001b[0m\u001b[1;33m,\u001b[0m\u001b[0mservice\u001b[0m\u001b[1;33m)\u001b[0m\u001b[1;33m.\u001b[0m\u001b[0mmean\u001b[0m\u001b[1;33m(\u001b[0m\u001b[1;33m)\u001b[0m\u001b[1;33m)\u001b[0m\u001b[1;33m\u001b[0m\u001b[1;33m\u001b[0m\u001b[0m\n\u001b[0;32m      6\u001b[0m \u001b[1;33m\u001b[0m\u001b[0m\n",
      "\u001b[1;32m<ipython-input-64-b1066f8aa765>\u001b[0m in \u001b[0;36mget_average\u001b[1;34m(country, service)\u001b[0m\n\u001b[0;32m      1\u001b[0m \u001b[1;32mdef\u001b[0m \u001b[0mget_average\u001b[0m\u001b[1;33m(\u001b[0m\u001b[0mcountry\u001b[0m\u001b[1;33m,\u001b[0m\u001b[0mservice\u001b[0m\u001b[1;33m)\u001b[0m\u001b[1;33m:\u001b[0m\u001b[1;33m\u001b[0m\u001b[1;33m\u001b[0m\u001b[0m\n\u001b[1;32m----> 2\u001b[1;33m     \u001b[0mdf_hdcps_description\u001b[0m\u001b[1;33m=\u001b[0m\u001b[0mdf_after_drop\u001b[0m\u001b[1;33m.\u001b[0m\u001b[0mloc\u001b[0m\u001b[1;33m[\u001b[0m\u001b[0mdf_after_drop\u001b[0m\u001b[1;33m[\u001b[0m\u001b[1;34m'hcpcs_description'\u001b[0m\u001b[1;33m]\u001b[0m\u001b[1;33m==\u001b[0m\u001b[0mservice\u001b[0m\u001b[1;33m]\u001b[0m\u001b[1;33m\u001b[0m\u001b[1;33m\u001b[0m\u001b[0m\n\u001b[0m\u001b[0;32m      3\u001b[0m     \u001b[0mdf_country\u001b[0m \u001b[1;33m=\u001b[0m \u001b[0mdf_hdcps_description\u001b[0m\u001b[1;33m.\u001b[0m\u001b[0mloc\u001b[0m\u001b[1;33m[\u001b[0m\u001b[0mdf_hdcps_description\u001b[0m\u001b[1;33m[\u001b[0m\u001b[1;34m'nppes_provider_country'\u001b[0m\u001b[1;33m]\u001b[0m\u001b[1;33m==\u001b[0m\u001b[0mcountry\u001b[0m\u001b[1;33m]\u001b[0m\u001b[1;33m\u001b[0m\u001b[1;33m\u001b[0m\u001b[0m\n\u001b[0;32m      4\u001b[0m     \u001b[0mdf_average_US\u001b[0m \u001b[1;33m=\u001b[0m\u001b[0mdf_country\u001b[0m\u001b[1;33m[\u001b[0m\u001b[1;34m'average_submitted_chrg_amt'\u001b[0m\u001b[1;33m]\u001b[0m\u001b[1;33m\u001b[0m\u001b[1;33m\u001b[0m\u001b[0m\n\u001b[0;32m      5\u001b[0m     \u001b[1;32mreturn\u001b[0m \u001b[0mdf_average_US\u001b[0m\u001b[1;33m\u001b[0m\u001b[1;33m\u001b[0m\u001b[0m\n",
      "\u001b[1;32m~\\anaconda3\\lib\\site-packages\\pandas\\core\\ops\\common.py\u001b[0m in \u001b[0;36mnew_method\u001b[1;34m(self, other)\u001b[0m\n\u001b[0;32m     62\u001b[0m         \u001b[0mother\u001b[0m \u001b[1;33m=\u001b[0m \u001b[0mitem_from_zerodim\u001b[0m\u001b[1;33m(\u001b[0m\u001b[0mother\u001b[0m\u001b[1;33m)\u001b[0m\u001b[1;33m\u001b[0m\u001b[1;33m\u001b[0m\u001b[0m\n\u001b[0;32m     63\u001b[0m \u001b[1;33m\u001b[0m\u001b[0m\n\u001b[1;32m---> 64\u001b[1;33m         \u001b[1;32mreturn\u001b[0m \u001b[0mmethod\u001b[0m\u001b[1;33m(\u001b[0m\u001b[0mself\u001b[0m\u001b[1;33m,\u001b[0m \u001b[0mother\u001b[0m\u001b[1;33m)\u001b[0m\u001b[1;33m\u001b[0m\u001b[1;33m\u001b[0m\u001b[0m\n\u001b[0m\u001b[0;32m     65\u001b[0m \u001b[1;33m\u001b[0m\u001b[0m\n\u001b[0;32m     66\u001b[0m     \u001b[1;32mreturn\u001b[0m \u001b[0mnew_method\u001b[0m\u001b[1;33m\u001b[0m\u001b[1;33m\u001b[0m\u001b[0m\n",
      "\u001b[1;32m~\\anaconda3\\lib\\site-packages\\pandas\\core\\ops\\__init__.py\u001b[0m in \u001b[0;36mwrapper\u001b[1;34m(self, other)\u001b[0m\n\u001b[0;32m    524\u001b[0m         \u001b[0mrvalues\u001b[0m \u001b[1;33m=\u001b[0m \u001b[0mextract_array\u001b[0m\u001b[1;33m(\u001b[0m\u001b[0mother\u001b[0m\u001b[1;33m,\u001b[0m \u001b[0mextract_numpy\u001b[0m\u001b[1;33m=\u001b[0m\u001b[1;32mTrue\u001b[0m\u001b[1;33m)\u001b[0m\u001b[1;33m\u001b[0m\u001b[1;33m\u001b[0m\u001b[0m\n\u001b[0;32m    525\u001b[0m \u001b[1;33m\u001b[0m\u001b[0m\n\u001b[1;32m--> 526\u001b[1;33m         \u001b[0mres_values\u001b[0m \u001b[1;33m=\u001b[0m \u001b[0mcomparison_op\u001b[0m\u001b[1;33m(\u001b[0m\u001b[0mlvalues\u001b[0m\u001b[1;33m,\u001b[0m \u001b[0mrvalues\u001b[0m\u001b[1;33m,\u001b[0m \u001b[0mop\u001b[0m\u001b[1;33m)\u001b[0m\u001b[1;33m\u001b[0m\u001b[1;33m\u001b[0m\u001b[0m\n\u001b[0m\u001b[0;32m    527\u001b[0m \u001b[1;33m\u001b[0m\u001b[0m\n\u001b[0;32m    528\u001b[0m         \u001b[1;32mreturn\u001b[0m \u001b[0m_construct_result\u001b[0m\u001b[1;33m(\u001b[0m\u001b[0mself\u001b[0m\u001b[1;33m,\u001b[0m \u001b[0mres_values\u001b[0m\u001b[1;33m,\u001b[0m \u001b[0mindex\u001b[0m\u001b[1;33m=\u001b[0m\u001b[0mself\u001b[0m\u001b[1;33m.\u001b[0m\u001b[0mindex\u001b[0m\u001b[1;33m,\u001b[0m \u001b[0mname\u001b[0m\u001b[1;33m=\u001b[0m\u001b[0mres_name\u001b[0m\u001b[1;33m)\u001b[0m\u001b[1;33m\u001b[0m\u001b[1;33m\u001b[0m\u001b[0m\n",
      "\u001b[1;32m~\\anaconda3\\lib\\site-packages\\pandas\\core\\ops\\array_ops.py\u001b[0m in \u001b[0;36mcomparison_op\u001b[1;34m(left, right, op)\u001b[0m\n\u001b[0;32m    245\u001b[0m \u001b[1;33m\u001b[0m\u001b[0m\n\u001b[0;32m    246\u001b[0m     \u001b[1;32melif\u001b[0m \u001b[0mis_object_dtype\u001b[0m\u001b[1;33m(\u001b[0m\u001b[0mlvalues\u001b[0m\u001b[1;33m.\u001b[0m\u001b[0mdtype\u001b[0m\u001b[1;33m)\u001b[0m\u001b[1;33m:\u001b[0m\u001b[1;33m\u001b[0m\u001b[1;33m\u001b[0m\u001b[0m\n\u001b[1;32m--> 247\u001b[1;33m         \u001b[0mres_values\u001b[0m \u001b[1;33m=\u001b[0m \u001b[0mcomp_method_OBJECT_ARRAY\u001b[0m\u001b[1;33m(\u001b[0m\u001b[0mop\u001b[0m\u001b[1;33m,\u001b[0m \u001b[0mlvalues\u001b[0m\u001b[1;33m,\u001b[0m \u001b[0mrvalues\u001b[0m\u001b[1;33m)\u001b[0m\u001b[1;33m\u001b[0m\u001b[1;33m\u001b[0m\u001b[0m\n\u001b[0m\u001b[0;32m    248\u001b[0m \u001b[1;33m\u001b[0m\u001b[0m\n\u001b[0;32m    249\u001b[0m     \u001b[1;32melse\u001b[0m\u001b[1;33m:\u001b[0m\u001b[1;33m\u001b[0m\u001b[1;33m\u001b[0m\u001b[0m\n",
      "\u001b[1;32m~\\anaconda3\\lib\\site-packages\\pandas\\core\\ops\\array_ops.py\u001b[0m in \u001b[0;36mcomp_method_OBJECT_ARRAY\u001b[1;34m(op, x, y)\u001b[0m\n\u001b[0;32m     56\u001b[0m     \u001b[1;32melse\u001b[0m\u001b[1;33m:\u001b[0m\u001b[1;33m\u001b[0m\u001b[1;33m\u001b[0m\u001b[0m\n\u001b[0;32m     57\u001b[0m         \u001b[0mresult\u001b[0m \u001b[1;33m=\u001b[0m \u001b[0mlibops\u001b[0m\u001b[1;33m.\u001b[0m\u001b[0mscalar_compare\u001b[0m\u001b[1;33m(\u001b[0m\u001b[0mx\u001b[0m\u001b[1;33m.\u001b[0m\u001b[0mravel\u001b[0m\u001b[1;33m(\u001b[0m\u001b[1;33m)\u001b[0m\u001b[1;33m,\u001b[0m \u001b[0my\u001b[0m\u001b[1;33m,\u001b[0m \u001b[0mop\u001b[0m\u001b[1;33m)\u001b[0m\u001b[1;33m\u001b[0m\u001b[1;33m\u001b[0m\u001b[0m\n\u001b[1;32m---> 58\u001b[1;33m     \u001b[1;32mreturn\u001b[0m \u001b[0mresult\u001b[0m\u001b[1;33m.\u001b[0m\u001b[0mreshape\u001b[0m\u001b[1;33m(\u001b[0m\u001b[0mx\u001b[0m\u001b[1;33m.\u001b[0m\u001b[0mshape\u001b[0m\u001b[1;33m)\u001b[0m\u001b[1;33m\u001b[0m\u001b[1;33m\u001b[0m\u001b[0m\n\u001b[0m\u001b[0;32m     59\u001b[0m \u001b[1;33m\u001b[0m\u001b[0m\n\u001b[0;32m     60\u001b[0m \u001b[1;33m\u001b[0m\u001b[0m\n",
      "\u001b[1;31mKeyboardInterrupt\u001b[0m: "
     ]
    }
   ],
   "source": [
    "for country in countries_list[1:]:\n",
    "    for service in services:\n",
    "        print(str(country)+\" \"+str(service))\n",
    "        print(get_average(country,service).count())\n",
    "        print(get_average(country,service).mean())\n",
    "\n"
   ]
  },
  {
   "cell_type": "code",
   "execution_count": null,
   "metadata": {},
   "outputs": [],
   "source": []
  }
 ],
 "metadata": {
  "kernelspec": {
   "display_name": "Python 3",
   "language": "python",
   "name": "python3"
  },
  "language_info": {
   "codemirror_mode": {
    "name": "ipython",
    "version": 3
   },
   "file_extension": ".py",
   "mimetype": "text/x-python",
   "name": "python",
   "nbconvert_exporter": "python",
   "pygments_lexer": "ipython3",
   "version": "3.7.6"
  }
 },
 "nbformat": 4,
 "nbformat_minor": 4
}
